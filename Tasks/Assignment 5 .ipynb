{
 "cells": [
  {
   "cell_type": "code",
   "execution_count": 168,
   "metadata": {},
   "outputs": [],
   "source": [
    "%matplotlib inline\n",
    "from sklearn import svm\n",
    "import numpy as np\n",
    "import matplotlib.pyplot as plt\n",
    "from scipy.io import loadmat\n",
    "import plotly.graph_objects as go\n",
    "import pandas as pd\n",
    "from math import sqrt\n",
    "from sklearn.metrics import accuracy_score"
   ]
  },
  {
   "cell_type": "markdown",
   "metadata": {},
   "source": [
    "## Read the Dataset"
   ]
  },
  {
   "cell_type": "code",
   "execution_count": 91,
   "metadata": {},
   "outputs": [
    {
     "data": {
      "text/plain": [
       "array([[1.9643  , 4.5957  , 1.      ],\n",
       "       [2.2753  , 3.8589  , 1.      ],\n",
       "       [2.9781  , 4.5651  , 1.      ],\n",
       "       [2.932   , 3.5519  , 1.      ],\n",
       "       [3.5772  , 2.856   , 1.      ],\n",
       "       [4.015   , 3.1937  , 1.      ],\n",
       "       [3.3814  , 3.4291  , 1.      ],\n",
       "       [3.9113  , 4.1761  , 1.      ],\n",
       "       [2.7822  , 4.0431  , 1.      ],\n",
       "       [2.5518  , 4.6162  , 1.      ],\n",
       "       [3.3698  , 3.9101  , 1.      ],\n",
       "       [3.1048  , 3.0709  , 1.      ],\n",
       "       [1.9182  , 4.0534  , 1.      ],\n",
       "       [2.2638  , 4.3706  , 1.      ],\n",
       "       [2.6555  , 3.5008  , 1.      ],\n",
       "       [3.1855  , 4.2888  , 1.      ],\n",
       "       [3.6579  , 3.8692  , 1.      ],\n",
       "       [3.9113  , 3.4291  , 1.      ],\n",
       "       [3.6002  , 3.1221  , 1.      ],\n",
       "       [3.0357  , 3.3165  , 1.      ],\n",
       "       [1.5841  , 3.3575  , 0.      ],\n",
       "       [2.0103  , 3.2039  , 0.      ],\n",
       "       [1.9527  , 2.7843  , 0.      ],\n",
       "       [2.2753  , 2.7127  , 0.      ],\n",
       "       [2.3099  , 2.9584  , 0.      ],\n",
       "       [2.8283  , 2.6309  , 0.      ],\n",
       "       [3.0473  , 2.2931  , 0.      ],\n",
       "       [2.4827  , 2.0373  , 0.      ],\n",
       "       [2.5057  , 2.3853  , 0.      ],\n",
       "       [1.8721  , 2.0577  , 0.      ],\n",
       "       [2.0103  , 2.3546  , 0.      ],\n",
       "       [1.2269  , 2.3239  , 0.      ],\n",
       "       [1.8951  , 2.9174  , 0.      ],\n",
       "       [1.561   , 3.0709  , 0.      ],\n",
       "       [1.5495  , 2.6923  , 0.      ],\n",
       "       [1.6878  , 2.4057  , 0.      ],\n",
       "       [1.4919  , 2.0271  , 0.      ],\n",
       "       [0.962   , 2.682   , 0.      ],\n",
       "       [1.1693  , 2.9276  , 0.      ],\n",
       "       [0.8122  , 2.9992  , 0.      ],\n",
       "       [0.9735  , 3.3881  , 0.      ],\n",
       "       [1.25    , 3.1937  , 0.      ],\n",
       "       [1.3191  , 3.5109  , 0.      ],\n",
       "       [2.2292  , 2.201   , 0.      ],\n",
       "       [2.4482  , 2.6411  , 0.      ],\n",
       "       [2.7938  , 1.9656  , 0.      ],\n",
       "       [2.091   , 1.6177  , 0.      ],\n",
       "       [2.5403  , 2.8867  , 0.      ],\n",
       "       [0.9044  , 3.0198  , 0.      ],\n",
       "       [0.76615 , 2.5899  , 0.      ],\n",
       "       [0.086405, 4.1045  , 1.      ]])"
      ]
     },
     "execution_count": 91,
     "metadata": {},
     "output_type": "execute_result"
    }
   ],
   "source": [
    "data=loadmat('ex6data1.mat')\n",
    "data\n",
    "yarr=np.array(data['y'])\n",
    "xarr=np.array(data['X'])\n",
    "#x = data['X'] \n",
    "#y = (data['y']) \n",
    "X1 = xarr[:,0]\n",
    "X2 = xarr[:,1]\n",
    "dataset=np.concatenate((xarr,yarr ), axis=1)\n",
    "dataset\n",
    "\n"
   ]
  },
  {
   "cell_type": "markdown",
   "metadata": {},
   "source": [
    "# Split dataset for train and test"
   ]
  },
  {
   "cell_type": "code",
   "execution_count": 132,
   "metadata": {},
   "outputs": [],
   "source": [
    "from sklearn.model_selection import train_test_split\n",
    "\n",
    "def traintest():\n",
    "    return train_test_split(xarr,yarr, test_size=0.30, random_state=0)\n",
    "\n",
    "def traintest2():\n",
    "    return train_test_split(X1,X2, test_size=0.30, random_state=0)\n",
    "\n",
    "x_train, x_test, y_train, y_test = traintest()\n",
    "x_train,x_test\n",
    "dataset2=np.concatenate((x_train,y_train ), axis=1)\n",
    "dataset2\n",
    "dataset3=np.concatenate((x_test,y_test ), axis=1)"
   ]
  },
  {
   "cell_type": "markdown",
   "metadata": {},
   "source": [
    "## Plot the data"
   ]
  },
  {
   "cell_type": "code",
   "execution_count": 147,
   "metadata": {},
   "outputs": [
    {
     "data": {
      "image/png": "[encoded data removed]",
      "text/plain": [
       "<Figure size 720x504 with 1 Axes>"
      ]
     },
     "metadata": {
      "needs_background": "light"
     },
     "output_type": "display_data"
    }
   ],
   "source": [
    "\n",
    "plotData()"
   ]
  },
  {
   "cell_type": "code",
   "execution_count": 45,
   "metadata": {},
   "outputs": [
    {
     "data": {
      "image/png": "[encoded data removed]",
      "text/plain": [
       "<Figure size 720x360 with 1 Axes>"
      ]
     },
     "metadata": {
      "needs_background": "light"
     },
     "output_type": "display_data"
    }
   ],
   "source": [
    "def plotData(x1,x2):\n",
    "    fig, ax = plt.subplots(figsize=(10, 5))\n",
    "    ax.scatter(x1,x2)\n",
    "    x_train, x_test, x2_train, x2_test = traintest2()\n",
    "    ax.scatter(x_test,x2_test,color='black')\n",
    "    #adds a title and axes labels\n",
    "    ax.set_xlabel('Y')\n",
    "    ax.set_ylabel('X')\n",
    "    #removing top and right borders\n",
    "    ax.spines['top'].set_visible(False)\n",
    "    ax.spines['right'].set_visible(False)\n",
    "    #adds major gridlines\n",
    "    ax.grid(color='grey', linestyle='-', linewidth=0.25, alpha=0.5)\n",
    "    plt.show()\n",
    "    \n",
    "plotData(X2,X1)"
   ]
  },
  {
   "cell_type": "code",
   "execution_count": 121,
   "metadata": {},
   "outputs": [],
   "source": [
    "\n",
    "#fig = go.Figure(data=go.Scatter(x=xarr, y=x, mode='markers'))\n",
    "#fig.show()\n",
    "#fig.add_trace(go.Scatter(x=x_test, y=y_test,\n",
    " #                   mode='markers',\n",
    "  #                  name='x2'))\n"
   ]
  },
  {
   "cell_type": "markdown",
   "metadata": {},
   "source": [
    "#### Create and Visualize kNN"
   ]
  },
  {
   "cell_type": "code",
   "execution_count": 198,
   "metadata": {},
   "outputs": [
    {
     "name": "stdout",
     "output_type": "stream",
     "text": [
      "Dist: 0.0\n",
      "Dist: 0.7997469849896276\n",
      "Dist: 1.0142617019290436\n",
      "Dist: 1.423362824440768\n",
      "Dist: 2.3723411432591224\n",
      "Dist: 2.4841446193810857\n",
      "Dist: 1.8355184471968675\n",
      "Dist: 1.9917010719482986\n",
      "Dist: 0.9870801233942461\n",
      "Dist: 0.587857550772294\n",
      "Dist: 1.563802292490966\n",
      "Dist: 1.904141615006615\n",
      "Dist: 0.5442559140698426\n",
      "Dist: 0.3746601927080058\n",
      "Dist: 1.2948217831037598\n",
      "Dist: 1.2591731612451087\n",
      "Dist: 1.842846496591618\n",
      "Dist: 2.269749889304987\n",
      "Dist: 2.2017415311521016\n",
      "Dist: 1.6686073834188795\n",
      "Dist: 1.2952572254189512\n",
      "Dist: 1.3925599592118107\n",
      "Dist: 1.8114371421608864\n",
      "Dist: 1.9085098899403168\n",
      "Dist: 1.6733770196820557\n",
      "Dist: 2.1463771895918016\n",
      "Dist: 2.544573787493693\n",
      "Dist: 2.610392522208106\n",
      "Dist: 2.2757377089638426\n",
      "Dist: 2.5396741602024457\n",
      "Dist: 2.2415720398862935\n",
      "Dist: 2.3884794326097927\n",
      "Dist: 1.6797260282557984\n",
      "Dist: 1.577233632027925\n",
      "Dist: 1.9480735612394107\n",
      "Dist: 2.207385840762779\n",
      "Dist: 2.611679099736413\n",
      "Dist: 2.1602900221960937\n",
      "Dist: 1.847858925892342\n",
      "Dist: 1.9687931988911378\n",
      "Dist: 1.5620443015484546\n",
      "Dist: 1.573476561630328\n",
      "Dist: 1.2621703846945544\n",
      "Dist: 2.4093069750448985\n",
      "Dist: 2.013608792690378\n",
      "Dist: 2.757806421778004\n",
      "Dist: 2.9806940282424157\n",
      "Dist: 1.8034569581778213\n",
      "Dist: 1.8991705610608014\n",
      "Dist: 2.3364068700677967\n",
      "Dist: 1.9410736902613974\n",
      "Neighbors: [1.9643 4.5957 1.    ]\n",
      "Neighbors: [2.2638 4.3706 1.    ]\n",
      "Neighbors: [1.9182 4.0534 1.    ]\n"
     ]
    }
   ],
   "source": [
    "def distan(row1, row2):\n",
    "    distance = 0.0\n",
    "    for i in range(len(row1)-1):\n",
    "        distance += (row1[i] - row2[i])**2\n",
    "    return sqrt(distance)\n",
    "\n",
    "def neighb(train, test_row, num_neighbors):\n",
    "    distances = list()\n",
    "    for train_row in train:\n",
    "        dist = distan(test_row, train_row)\n",
    "        distances.append((train_row, dist))\n",
    "        distances.sort(key=lambda tup: tup[1])\n",
    "        neighbors = list()\n",
    "    for i in range(num_neighbors):\n",
    "        neighbors.append(distances[i][0])\n",
    "    return neighbors\n",
    "\n",
    "row0 = dataset[0]\n",
    "for row in dataset:\n",
    "\tdistance = distan(row0, row)\n",
    "\tprint('Dist:',distance)\n",
    "\n",
    "neighbors = neighb(dataset, dataset[0], 3)\n",
    "for neighbor in neighbors:\n",
    "\tprint('Neighbors:',neighbor)\n",
    "\n"
   ]
  },
  {
   "cell_type": "markdown",
   "metadata": {},
   "source": [
    "## Compute accuracy"
   ]
  },
  {
   "cell_type": "code",
   "execution_count": 152,
   "metadata": {},
   "outputs": [
    {
     "name": "stdout",
     "output_type": "stream",
     "text": [
      "accuracy: 87.5\n"
     ]
    }
   ],
   "source": [
    "def prediction(train, test, num_neighbors):\n",
    "\tpredictions = list()\n",
    "\tfor row in test:\n",
    "\t\toutput = predict_classification(train, row, num_neighbors)\n",
    "\t\tpredictions.append(output)\n",
    "\treturn(predictions)\n",
    "pred=prediction(dataset2, x_test, 10)\n",
    "acc = accuracy_score(y_test, pred)\n",
    "acc*100\n",
    "\n",
    "\n",
    "\n",
    "\n"
   ]
  },
  {
   "cell_type": "markdown",
   "metadata": {},
   "source": [
    "## Create LinearSVC and train your data"
   ]
  },
  {
   "cell_type": "code",
   "execution_count": 194,
   "metadata": {},
   "outputs": [
    {
     "name": "stderr",
     "output_type": "stream",
     "text": [
      "C:\\Users\\User\\Anaconda3\\envs\\ML\\lib\\site-packages\\sklearn\\utils\\validation.py:72: DataConversionWarning:\n",
      "\n",
      "A column-vector y was passed when a 1d array was expected. Please change the shape of y to (n_samples, ), for example using ravel().\n",
      "\n"
     ]
    },
    {
     "data": {
      "text/plain": [
       "array([0, 1, 1, 0, 1, 0, 0, 0, 0, 1, 0, 0, 0, 0, 0, 1], dtype=uint8)"
      ]
     },
     "execution_count": 194,
     "metadata": {},
     "output_type": "execute_result"
    }
   ],
   "source": [
    "from sklearn.svm import SVC\n",
    "clf = SVC(kernel='linear')\n",
    "clf.fit(x_train, y_train)\n",
    "predSVC = clf.predict(x_test)\n",
    "predSVC\n"
   ]
  },
  {
   "cell_type": "markdown",
   "metadata": {},
   "source": [
    "## Compute accuracy"
   ]
  },
  {
   "cell_type": "code",
   "execution_count": 227,
   "metadata": {},
   "outputs": [
    {
     "data": {
      "text/plain": [
       "100.0"
      ]
     },
     "execution_count": 227,
     "metadata": {},
     "output_type": "execute_result"
    }
   ],
   "source": [
    "accSVC=accuracy_score(y_test,predSVC)\n",
    "accSVC*100"
   ]
  },
  {
   "cell_type": "markdown",
   "metadata": {},
   "source": [
    "## Visualize the Decision Boundary"
   ]
  },
  {
   "cell_type": "code",
   "execution_count": 247,
   "metadata": {},
   "outputs": [
    {
     "name": "stderr",
     "output_type": "stream",
     "text": [
      "No handles with labels found to put in legend.\n"
     ]
    },
    {
     "data": {
      "image/png": "[encoded data removed]",
      "text/plain": [
       "<Figure size 432x288 with 1 Axes>"
      ]
     },
     "metadata": {},
     "output_type": "display_data"
    }
   ],
   "source": [
    "\n",
    "def make_meshgrid(x, y, h=.02):\n",
    "    x_min, x_max = x.min() - 1, x.max() + 1\n",
    "    y_min, y_max = y.min() - 1, y.max() + 1\n",
    "    xx, yy = np.meshgrid(np.arange(x_min, x_max, h), np.arange(y_min, y_max, h))\n",
    "    return xx, yy\n",
    "\n",
    "def plot_contours(ax, clf, xx, yy, **params):\n",
    "    Z = clf.predict(np.c_[xx.ravel(), yy.ravel()])\n",
    "    Z = Z.reshape(xx.shape)\n",
    "    out = ax.contourf(xx, yy, Z, **params)\n",
    "    return out\n",
    "\n",
    "fig, ax = plt.subplots()\n",
    "# title for the plots\n",
    "\n",
    "# Set-up grid for plotting.\n",
    "X0, X1 = x_train[:, 0], x_train[:, 1]\n",
    "xx, yy = make_meshgrid(X0, X1)\n",
    "\n",
    "plot_contours(ax, clf, xx, yy, cmap=plt.cm.coolwarm, alpha=0.8)\n",
    "ax.scatter(X0, X1, c=y_train, cmap=plt.cm.coolwarm, s=20, edgecolors='k')\n",
    "ax.set_ylabel('y label here')\n",
    "ax.set_xlabel('x label here')\n",
    "ax.set_xticks(())\n",
    "ax.set_yticks(())\n",
    "ax.set_title(title)\n",
    "ax.legend()\n",
    "plt.show()\n",
    "\n"
   ]
  },
  {
   "cell_type": "code",
   "execution_count": null,
   "metadata": {},
   "outputs": [],
   "source": []
  },
  {
   "cell_type": "code",
   "execution_count": null,
   "metadata": {},
   "outputs": [],
   "source": []
  }
 ],
 "metadata": {
  "kernelspec": {
   "display_name": "Python 3",
   "language": "python",
   "name": "python3"
  },
  "language_info": {
   "codemirror_mode": {
    "name": "ipython",
    "version": 3
   },
   "file_extension": ".py",
   "mimetype": "text/x-python",
   "name": "python",
   "nbconvert_exporter": "python",
   "pygments_lexer": "ipython3",
   "version": "3.7.9"
  }
 },
 "nbformat": 4,
 "nbformat_minor": 1
}
