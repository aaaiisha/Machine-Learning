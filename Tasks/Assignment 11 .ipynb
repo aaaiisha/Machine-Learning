{
 "cells": [
  {
   "cell_type": "markdown",
   "metadata": {},
   "source": [
    "# User-based efficiency. \n",
    "The user-based filtering algorithm is inefficient because it\n",
    "compares a user to all other users every time a recommendation is needed. Write\n",
    "a function to precompute user similarities, and alter the recommendation code\n",
    "to use only the top five other users to get recommendations."
   ]
  },
  {
   "cell_type": "markdown",
   "metadata": {},
   "source": [
    "###### Aisha Askarova "
   ]
  },
  {
   "cell_type": "code",
   "execution_count": null,
   "metadata": {},
   "outputs": [],
   "source": [
    "import recommendations as rec\n",
    "import pandas as pd "
   ]
  },
  {
   "cell_type": "code",
   "execution_count": 23,
   "metadata": {},
   "outputs": [],
   "source": [
    "#TOP FIVE\n",
    "def similar(prefs,person,n=5):\n",
    "    d = {}\n",
    "    high = 0\n",
    "    #crittics\n",
    "    for b in prefs:\n",
    "        if b != person:\n",
    "            crit2 = str(b)\n",
    "            pear = rec.sim_pearson(prefs, person, crit2)\n",
    "            if pear not in d:\n",
    "                d[pear] = [person, crit2]\n",
    " \n",
    "    # top critics\n",
    "    res = list(d.keys())\n",
    "    sorted(res)\n",
    "    res.reverse()\n",
    "    listsim = []\n",
    "    for a in range(n):\n",
    "        listsim.append(d[res[a]][1])\n",
    "    return listsim"
   ]
  },
  {
   "cell_type": "code",
   "execution_count": 24,
   "metadata": {},
   "outputs": [],
   "source": [
    "prefs = rec.loadMovieLens()"
   ]
  },
  {
   "cell_type": "code",
   "execution_count": 25,
   "metadata": {},
   "outputs": [
    {
     "data": {
      "text/plain": [
       "0                                Toy Story (1995)\n",
       "1                                  Jumanji (1995)\n",
       "2                         Grumpier Old Men (1995)\n",
       "3                        Waiting to Exhale (1995)\n",
       "4              Father of the Bride Part II (1995)\n",
       "                          ...                    \n",
       "9737    Black Butler: Book of the Atlantic (2017)\n",
       "9738                 No Game No Life: Zero (2017)\n",
       "9739                                 Flint (2017)\n",
       "9740          Bungo Stray Dogs: Dead Apple (2018)\n",
       "9741          Andrew Dice Clay: Dice Rules (1991)\n",
       "Name: title, Length: 9742, dtype: object"
      ]
     },
     "execution_count": 25,
     "metadata": {},
     "output_type": "execute_result"
    }
   ],
   "source": [
    "movi = pd.read_csv('ml-latest-small/movies.csv')\n",
    "rat = pd.read_csv('ml-latest-small/ratings.csv')\n",
    "id_m = movi['movieId']\n",
    "title = movi['title']\n",
    "movies= movi.iloc[:,1].to_dict()\n",
    "user = (rat.iloc[1:,0])\n",
    "movieid = (rat.iloc[1:,1])\n",
    "rating=(rat.iloc[1:,2])\n",
    "ts=(rat.iloc[1:,3])\n",
    "title"
   ]
  },
  {
   "cell_type": "code",
   "execution_count": 26,
   "metadata": {},
   "outputs": [],
   "source": [
    "\n",
    "def reki(prefs, person, similarity=rec.sim_pearson):\n",
    "    totals = {}\n",
    "    simSums = {}\n",
    "    others = similar(prefs,person)\n",
    "    for other in others:\n",
    "        sim = similarity(prefs, person, other)\n",
    "        if sim <= 0: continue\n",
    "        for item in prefs[other]:\n",
    "            if item not in prefs[person] or prefs[person][item] == 0:\n",
    "                totals.setdefault(item,0)\n",
    "                totals[item] += prefs[other][item]*sim\n",
    "                simSums.setdefault(item,0)\n",
    "                simSums[item] += sim\n",
    "    rankings = [(total/simSums[item],item) for item, total in list(totals.items())]\n",
    "    rankings.sort()\n",
    "    rankings.reverse()\n",
    "    return rankings"
   ]
  },
  {
   "cell_type": "code",
   "execution_count": 34,
   "metadata": {},
   "outputs": [],
   "source": [
    "#Euclidean distance\n",
    "def reki2(prefs, person, similarity=rec.sim_distance):\n",
    "    totals = {}\n",
    "    simSums = {}\n",
    "    others = similar(prefs,person)\n",
    "    for other in others:\n",
    "        sim = similarity(prefs, person, other)\n",
    "        if sim <= 0: continue\n",
    "        for item in prefs[other]:\n",
    "            if item not in prefs[person] or prefs[person][item] == 0:\n",
    "                totals.setdefault(item,0)\n",
    "                totals[item] += prefs[other][item]*sim\n",
    "                simSums.setdefault(item,0)\n",
    "                simSums[item] += sim\n",
    "    rankings = [(total/simSums[item],item) for item, total in list(totals.items())]\n",
    "    rankings.sort()\n",
    "    rankings.reverse()\n",
    "    return rankings"
   ]
  },
  {
   "cell_type": "code",
   "execution_count": 37,
   "metadata": {},
   "outputs": [],
   "source": [
    "#tanimoto\n",
    "def reki3(prefs, person, similarity=sm_tanimoto):\n",
    "    totals = {}\n",
    "    simSums = {}\n",
    "    others = similar(prefs,person)\n",
    "    for other in others:\n",
    "        sim = similarity(prefs, person, other)\n",
    "        if sim <= 0: continue\n",
    "        for item in prefs[other]:\n",
    "            if item not in prefs[person] or prefs[person][item] == 0:\n",
    "                totals.setdefault(item,0)\n",
    "                totals[item] += prefs[other][item]*sim\n",
    "                simSums.setdefault(item,0)\n",
    "                simSums[item] += sim\n",
    "    rankings = [(total/simSums[item],item) for item, total in list(totals.items())]\n",
    "    rankings.sort()\n",
    "    rankings.reverse()\n",
    "    return rankings"
   ]
  },
  {
   "cell_type": "code",
   "execution_count": 30,
   "metadata": {},
   "outputs": [
    {
     "data": {
      "text/plain": [
       "{'Naked Gun 33 1/3: The Final Insult (1994)': 4.0,\n",
       " 'Con Air (1997)': 4.0,\n",
       " 'Sabrina (1995)': 4.0,\n",
       " 'Waterworld (1995)': 4.0,\n",
       " 'To Wong Foo, Thanks for Everything! Julie Newmar (1995)': 3.0,\n",
       " 'Clueless (1995)': 4.0,\n",
       " 'Jurassic Park (1993)': 5.0,\n",
       " 'Brady Bunch Movie, The (1995)': 2.0,\n",
       " 'Son in Law (1993)': 4.0,\n",
       " 'Indiana Jones and the Last Crusade (1989)': 5.0,\n",
       " 'Good, The Bad and The Ugly, The (1966)': 5.0,\n",
       " 'Dead Poets Society (1989)': 5.0,\n",
       " 'Dead Man Walking (1995)': 4.0,\n",
       " \"Joe's Apartment (1996)\": 2.0,\n",
       " 'GoldenEye (1995)': 4.0,\n",
       " 'M*A*S*H (1970)': 5.0,\n",
       " 'Something to Talk About (1995)': 2.0,\n",
       " 'Lightning Jack (1994)': 3.0,\n",
       " 'Big Green, The (1995)': 3.0,\n",
       " 'Cowboy Way, The (1994)': 3.0,\n",
       " \"Ulee's Gold (1997)\": 3.0,\n",
       " 'Addams Family Values (1993)': 2.0,\n",
       " '2001: A Space Odyssey (1968)': 5.0,\n",
       " 'Platoon (1986)': 3.0,\n",
       " 'Return of the Pink Panther, The (1974)': 4.0,\n",
       " 'Four Weddings and a Funeral (1994)': 5.0,\n",
       " 'Under Siege (1992)': 4.0,\n",
       " 'Ace Ventura: Pet Detective (1994)': 4.0,\n",
       " 'Die Hard: With a Vengeance (1995)': 4.0,\n",
       " 'Prefontaine (1997)': 5.0,\n",
       " 'Cops and Robbersons (1994)': 3.0,\n",
       " \"Pyromaniac's Love Story, A (1995)\": 3.0,\n",
       " 'Glory (1989)': 4.0,\n",
       " 'This Is Spinal Tap (1984)': 5.0,\n",
       " 'Multiplicity (1996)': 3.0,\n",
       " 'Tommy Boy (1995)': 4.0,\n",
       " 'Cool Hand Luke (1967)': 5.0,\n",
       " \"Monty Python's Life of Brian (1979)\": 4.0,\n",
       " 'Victor/Victoria (1982)': 4.0,\n",
       " 'Treasure of the Sierra Madre, The (1948)': 4.0,\n",
       " 'That Old Feeling (1997)': 4.0,\n",
       " 'Mrs. Doubtfire (1993)': 4.0,\n",
       " 'Professional, The (1994)': 4.0,\n",
       " 'True Lies (1994)': 5.0,\n",
       " 'Air Force One (1997)': 3.0,\n",
       " 'Speechless (1994)': 4.0,\n",
       " 'Sleepless in Seattle (1993)': 5.0,\n",
       " 'Young Frankenstein (1974)': 5.0,\n",
       " 'GoodFellas (1990)': 4.0,\n",
       " 'Fugitive, The (1993)': 5.0,\n",
       " 'In the Line of Fire (1993)': 5.0,\n",
       " 'Reality Bites (1994)': 3.0,\n",
       " 'Shadow, The (1994)': 3.0,\n",
       " 'Speed (1994)': 5.0,\n",
       " 'Batman Returns (1992)': 3.0,\n",
       " 'Conan the Barbarian (1981)': 3.0,\n",
       " 'Terminator 2: Judgment Day (1991)': 5.0,\n",
       " 'Strange Days (1995)': 3.0,\n",
       " 'Star Trek III: The Search for Spock (1984)': 4.0,\n",
       " \"Schindler's List (1993)\": 4.0,\n",
       " 'Sneakers (1992)': 4.0,\n",
       " 'Twelve Monkeys (1995)': 4.0,\n",
       " 'Switchblade Sisters (1975)': 2.0,\n",
       " 'Searching for Bobby Fischer (1993)': 4.0,\n",
       " 'Birdcage, The (1996)': 4.0,\n",
       " \"Singin' in the Rain (1952)\": 4.0,\n",
       " 'Shawshank Redemption, The (1994)': 5.0,\n",
       " 'Santa Clause, The (1994)': 4.0,\n",
       " 'Clear and Present Danger (1994)': 5.0,\n",
       " 'Dances with Wolves (1990)': 5.0,\n",
       " 'Deer Hunter, The (1978)': 3.0,\n",
       " 'Boot, Das (1981)': 4.0,\n",
       " 'Alien (1979)': 4.0,\n",
       " 'Speed 2: Cruise Control (1997)': 3.0,\n",
       " 'Maverick (1994)': 3.0,\n",
       " 'Jack (1996)': 3.0,\n",
       " 'Desperado (1995)': 3.0,\n",
       " 'Nutty Professor, The (1996)': 4.0,\n",
       " 'Batman (1989)': 3.0,\n",
       " 'Dave (1993)': 4.0,\n",
       " 'Crow, The (1994)': 3.0,\n",
       " 'Adventures of Robin Hood, The (1938)': 5.0,\n",
       " 'Blues Brothers, The (1980)': 5.0,\n",
       " 'Adventures of Priscilla, Queen of the Desert, The (1994)': 3.0,\n",
       " 'Raging Bull (1980)': 3.0,\n",
       " 'Batman & Robin (1997)': 4.0,\n",
       " 'Babe (1995)': 5.0,\n",
       " 'Raising Arizona (1987)': 3.0,\n",
       " 'Cliffhanger (1993)': 3.0,\n",
       " 'Top Gun (1986)': 5.0,\n",
       " 'Endless Summer 2, The (1994)': 3.0,\n",
       " 'Barcelona (1994)': 3.0,\n",
       " 'Twister (1996)': 4.0,\n",
       " 'Evil Dead II (1987)': 2.0,\n",
       " 'Sleepers (1996)': 4.0,\n",
       " 'Striptease (1996)': 2.0,\n",
       " 'Get Shorty (1995)': 5.0,\n",
       " 'So I Married an Axe Murderer (1993)': 2.0,\n",
       " 'Mission: Impossible (1996)': 4.0,\n",
       " 'Wizard of Oz, The (1939)': 5.0,\n",
       " 'Baby-Sitters Club, The (1995)': 2.0,\n",
       " 'When Harry Met Sally... (1989)': 5.0,\n",
       " 'Mother (1996)': 2.0,\n",
       " 'Star Trek IV: The Voyage Home (1986)': 5.0,\n",
       " 'Swimming with Sharks (1995)': 3.0,\n",
       " 'Net, The (1995)': 5.0,\n",
       " 'Private Benjamin (1980)': 4.0,\n",
       " 'Fargo (1996)': 5.0,\n",
       " 'Dumb & Dumber (1994)': 4.0,\n",
       " 'Stargate (1994)': 5.0,\n",
       " \"City Slickers II: The Legend of Curly's Gold (1994)\": 3.0,\n",
       " 'Hoop Dreams (1994)': 4.0,\n",
       " 'Young Guns (1988)': 3.0,\n",
       " 'Groundhog Day (1993)': 5.0,\n",
       " 'Bridge on the River Kwai, The (1957)': 5.0,\n",
       " 'Braveheart (1995)': 4.0,\n",
       " 'Vegas Vacation (1997)': 4.0,\n",
       " 'Michael (1996)': 4.0,\n",
       " 'Star Trek: The Wrath of Khan (1982)': 5.0,\n",
       " 'Muppet Treasure Island (1996)': 3.0,\n",
       " 'Nine Months (1995)': 4.0,\n",
       " 'Die Hard (1988)': 4.0,\n",
       " 'Bananas (1971)': 5.0,\n",
       " 'Forget Paris (1995)': 4.0,\n",
       " 'French Kiss (1995)': 5.0,\n",
       " 'Truth About Cats & Dogs, The (1996)': 4.0,\n",
       " 'Empire Strikes Back, The (1980)': 5.0,\n",
       " 'Dunston Checks In (1996)': 1.0,\n",
       " 'Star Trek: The Motion Picture (1979)': 3.0,\n",
       " 'Return of the Jedi (1983)': 5.0,\n",
       " 'Manchurian Candidate, The (1962)': 4.0,\n",
       " 'River Wild, The (1994)': 4.0,\n",
       " 'House Arrest (1996)': 3.0,\n",
       " 'Milk Money (1994)': 4.0,\n",
       " 'Godfather, The (1972)': 4.0,\n",
       " 'Low Down Dirty Shame, A (1994)': 3.0,\n",
       " 'Butch Cassidy and the Sundance Kid (1969)': 5.0,\n",
       " 'Wyatt Earp (1994)': 3.0,\n",
       " 'Star Wars (1977)': 5.0,\n",
       " 'To Kill a Mockingbird (1962)': 4.0,\n",
       " 'Magnificent Seven, The (1954)': 5.0,\n",
       " 'Back to the Future (1985)': 5.0,\n",
       " 'Hot Shots! Part Deux (1993)': 4.0,\n",
       " 'Great White Hype, The (1996)': 3.0,\n",
       " \"Dante's Peak (1997)\": 3.0,\n",
       " 'Matilda (1996)': 3.0,\n",
       " 'Junior (1994)': 4.0,\n",
       " 'Blade Runner (1982)': 4.0,\n",
       " 'Mars Attacks! (1996)': 3.0,\n",
       " 'My Favorite Year (1982)': 3.0,\n",
       " 'Broken Arrow (1996)': 3.0,\n",
       " 'Young Guns II (1990)': 2.0,\n",
       " 'Terminator, The (1984)': 5.0,\n",
       " 'Fish Called Wanda, A (1988)': 5.0,\n",
       " 'Down Periscope (1996)': 4.0,\n",
       " 'Hard Target (1993)': 4.0,\n",
       " 'Ed Wood (1994)': 3.0,\n",
       " 'Demolition Man (1993)': 3.0,\n",
       " 'Mask, The (1994)': 3.0,\n",
       " 'E.T. the Extra-Terrestrial (1982)': 3.0,\n",
       " 'Coneheads (1993)': 4.0,\n",
       " 'Man of the House (1995)': 3.0,\n",
       " 'That Thing You Do! (1996)': 4.0,\n",
       " 'Strictly Ballroom (1992)': 3.0,\n",
       " \"It's a Wonderful Life (1946)\": 5.0,\n",
       " 'Annie Hall (1977)': 4.0,\n",
       " 'Dragonheart (1996)': 4.0,\n",
       " 'Renaissance Man (1994)': 5.0,\n",
       " 'Kingpin (1996)': 4.0,\n",
       " 'In the Army Now (1994)': 4.0,\n",
       " 'Mighty Aphrodite (1995)': 3.0,\n",
       " \"Weekend at Bernie's (1989)\": 3.0,\n",
       " 'Clockwork Orange, A (1971)': 4.0,\n",
       " 'Heat (1995)': 3.0,\n",
       " 'Addicted to Love (1997)': 4.0,\n",
       " 'Program, The (1993)': 3.0,\n",
       " 'Grumpier Old Men (1995)': 4.0,\n",
       " 'Bad Boys (1995)': 4.0,\n",
       " 'American President, The (1995)': 5.0,\n",
       " 'Grease (1978)': 4.0,\n",
       " 'Full Metal Jacket (1987)': 4.0,\n",
       " 'Air Up There, The (1994)': 3.0,\n",
       " 'Home Alone (1990)': 4.0,\n",
       " 'Jimmy Hollywood (1994)': 3.0,\n",
       " 'I.Q. (1994)': 5.0,\n",
       " 'First Wives Club, The (1996)': 2.0,\n",
       " 'Boomerang (1992)': 3.0,\n",
       " 'Heathers (1989)': 3.0,\n",
       " 'While You Were Sleeping (1995)': 5.0,\n",
       " 'Star Trek: First Contact (1996)': 4.0,\n",
       " 'Independence Day (ID4) (1996)': 5.0,\n",
       " 'Lost World: Jurassic Park, The (1997)': 3.0,\n",
       " 'Raiders of the Lost Ark (1981)': 5.0,\n",
       " 'To Die For (1995)': 3.0,\n",
       " 'I Love Trouble (1994)': 3.0,\n",
       " 'Citizen Kane (1941)': 4.0,\n",
       " 'Sleeper (1973)': 4.0,\n",
       " 'Quiet Man, The (1952)': 5.0,\n",
       " 'Sting, The (1973)': 5.0,\n",
       " 'Up in Smoke (1978)': 3.0,\n",
       " 'Executive Decision (1996)': 3.0,\n",
       " 'Jeffrey (1995)': 3.0,\n",
       " 'Inkwell, The (1994)': 3.0,\n",
       " 'Serial Mom (1994)': 1.0,\n",
       " 'Pulp Fiction (1994)': 4.0,\n",
       " 'Supercop (1992)': 3.0,\n",
       " 'Major Payne (1994)': 3.0,\n",
       " 'Big Squeeze, The (1996)': 2.0,\n",
       " 'Days of Thunder (1990)': 5.0,\n",
       " 'Apocalypse Now (1979)': 4.0}"
      ]
     },
     "execution_count": 30,
     "metadata": {},
     "output_type": "execute_result"
    }
   ],
   "source": [
    "prefs['87']"
   ]
  },
  {
   "cell_type": "code",
   "execution_count": 32,
   "metadata": {},
   "outputs": [
    {
     "name": "stdout",
     "output_type": "stream",
     "text": [
      "100 / 1664\n",
      "200 / 1664\n",
      "300 / 1664\n",
      "400 / 1664\n",
      "500 / 1664\n",
      "600 / 1664\n",
      "700 / 1664\n",
      "800 / 1664\n",
      "900 / 1664\n",
      "1000 / 1664\n",
      "1100 / 1664\n",
      "1200 / 1664\n",
      "1300 / 1664\n",
      "1400 / 1664\n",
      "1500 / 1664\n",
      "1600 / 1664\n"
     ]
    }
   ],
   "source": [
    "itemsim=rec.calculateSimilarItems(prefs,n=50)"
   ]
  },
  {
   "cell_type": "code",
   "execution_count": 33,
   "metadata": {},
   "outputs": [
    {
     "data": {
      "text/plain": [
       "[(5.0, \"What's Eating Gilbert Grape (1993)\"),\n",
       " (5.0, 'Vertigo (1958)'),\n",
       " (5.0, 'Usual Suspects, The (1995)'),\n",
       " (5.0, 'Toy Story (1995)'),\n",
       " (5.0, 'Titanic (1997)'),\n",
       " (5.0, 'Sword in the Stone, The (1963)'),\n",
       " (5.0, 'Stand by Me (1986)'),\n",
       " (5.0, 'Sling Blade (1996)'),\n",
       " (5.0, 'Silence of the Lambs, The (1991)'),\n",
       " (5.0, 'Shining, The (1980)'),\n",
       " (5.0, 'Shine (1996)'),\n",
       " (5.0, 'Sense and Sensibility (1995)'),\n",
       " (5.0, 'Scream (1996)'),\n",
       " (5.0, 'Rumble in the Bronx (1995)'),\n",
       " (5.0, 'Rock, The (1996)'),\n",
       " (5.0, 'Robin Hood: Prince of Thieves (1991)'),\n",
       " (5.0, 'Reservoir Dogs (1992)'),\n",
       " (5.0, 'Police Story 4: Project S (Chao ji ji hua) (1993)'),\n",
       " (5.0, 'House of the Spirits, The (1993)'),\n",
       " (5.0, 'Fresh (1994)'),\n",
       " (5.0, 'Denise Calls Up (1995)'),\n",
       " (5.0, 'Day the Sun Turned Cold, The (Tianguo niezi) (1994)'),\n",
       " (5.0, 'Before the Rain (Pred dozhdot) (1994)'),\n",
       " (5.0, 'Assignment, The (1997)'),\n",
       " (5.0, '1-900 (1994)'),\n",
       " (4.875, \"Ed's Next Move (1996)\"),\n",
       " (4.833333333333333, 'Anna (1996)'),\n",
       " (4.8, 'Dark City (1998)'),\n",
       " (4.75, 'Flower of My Secret, The (Flor de mi secreto, La) (1995)'),\n",
       " (4.75, 'Broken English (1996)')]"
      ]
     },
     "execution_count": 33,
     "metadata": {},
     "output_type": "execute_result"
    }
   ],
   "source": [
    "rec.getRecommendedItems(prefs,itemsim,'87')[0:30]"
   ]
  },
  {
   "cell_type": "code",
   "execution_count": 29,
   "metadata": {},
   "outputs": [
    {
     "name": "stdout",
     "output_type": "stream",
     "text": [
      "[(5.000000000000001, \"My Best Friend's Wedding (1997)\"), (5.0, \"Young Poisoner's Handbook, The (1995)\"), (5.0, 'Wild Reeds (1994)'), (5.0, 'Welcome to the Dollhouse (1995)'), (5.0, 'Usual Suspects, The (1995)'), (5.0, 'Up Close and Personal (1996)'), (5.0, 'True Romance (1993)'), (5.0, 'Story of Xinghua, The (1993)'), (5.0, 'Silence of the Lambs, The (1991)'), (5.0, 'Shanghai Triad (Yao a yao yao dao waipo qiao) (1995)'), (5.0, 'Set It Off (1996)'), (5.0, 'Ransom (1996)'), (5.0, 'Princess Bride, The (1987)'), (5.0, 'Portrait of a Lady, The (1996)'), (5.0, 'Pillow Book, The (1995)'), (5.0, 'Patton (1970)'), (5.0, 'My Fair Lady (1964)'), (5.0, 'Mirror Has Two Faces, The (1996)'), (5.0, 'Mina Tannenbaum (1994)'), (5.0, 'Mallrats (1995)'), (5.0, 'Ma vie en rose (My Life in Pink) (1997)'), (5.0, 'Love! Valour! Compassion! (1997)'), (5.0, 'Lost Highway (1997)'), (5.0, 'Leaving Las Vegas (1995)'), (5.0, 'Killing Zoe (1994)'), (5.0, 'Jackal, The (1997)'), (5.0, 'I Shot Andy Warhol (1996)'), (5.0, 'Hotel de Love (1996)'), (5.0, 'Hate (Haine, La) (1995)'), (5.0, 'Godfather: Part II, The (1974)')]\n"
     ]
    }
   ],
   "source": [
    "#TOP FIVE \n",
    "prefs = rec.loadMovieLens()\n",
    "print (reki(prefs, '87')[0:30])"
   ]
  },
  {
   "cell_type": "code",
   "execution_count": 35,
   "metadata": {},
   "outputs": [
    {
     "name": "stdout",
     "output_type": "stream",
     "text": [
      "[(5.0, \"Young Poisoner's Handbook, The (1995)\"), (5.0, 'Wild Reeds (1994)'), (5.0, 'Welcome to the Dollhouse (1995)'), (5.0, 'Usual Suspects, The (1995)'), (5.0, 'Up Close and Personal (1996)'), (5.0, 'True Romance (1993)'), (5.0, 'Story of Xinghua, The (1993)'), (5.0, 'Spitfire Grill, The (1996)'), (5.0, 'Silence of the Lambs, The (1991)'), (5.0, 'Shanghai Triad (Yao a yao yao dao waipo qiao) (1995)'), (5.0, 'Set It Off (1996)'), (5.0, 'Ransom (1996)'), (5.0, 'Princess Bride, The (1987)'), (5.0, 'Portrait of a Lady, The (1996)'), (5.0, 'Pillow Book, The (1995)'), (5.0, 'Patton (1970)'), (5.0, 'My Fair Lady (1964)'), (5.0, 'Mirror Has Two Faces, The (1996)'), (5.0, 'Mina Tannenbaum (1994)'), (5.0, 'Mallrats (1995)'), (5.0, 'Ma vie en rose (My Life in Pink) (1997)'), (5.0, 'Love! Valour! Compassion! (1997)'), (5.0, 'Lost Highway (1997)'), (5.0, 'Leaving Las Vegas (1995)'), (5.0, 'Killing Zoe (1994)'), (5.0, 'Jean de Florette (1986)'), (5.0, 'Jackal, The (1997)'), (5.0, 'I Shot Andy Warhol (1996)'), (5.0, 'Hotel de Love (1996)'), (5.0, 'Horseman on the Roof, The (Hussard sur le toit, Le) (1995)')]\n"
     ]
    }
   ],
   "source": [
    "#use distance\n",
    "print (reki2(prefs, '87')[0:30])"
   ]
  },
  {
   "cell_type": "markdown",
   "metadata": {},
   "source": [
    "# Tanimoto score."
   ]
  },
  {
   "cell_type": "markdown",
   "metadata": {},
   "source": [
    "##### Find out what a Tanimoto similarity score is. In what cases  could this be used as the similarity metric instead of Euclidean distance or Pearson coefficient? Create a new similarity function using the Tanimoto score"
   ]
  },
  {
   "cell_type": "code",
   "execution_count": 36,
   "metadata": {},
   "outputs": [],
   "source": [
    "\n",
    "def sm_tanimoto(pref, p1, p2):\n",
    "    t1 = t2 = t3 = 0.0\n",
    "    for i in pref[p1]:\n",
    "        t1 += 1.0\n",
    "        if i in pref[p2]: t3 += 1.0\n",
    "    for i in pref[p2]:\n",
    "        t2 += 1.0\n",
    "    \n",
    "    n = t3\n",
    "    d = (t1 + t2) - t3\n",
    "    res = float(n/d)\n",
    "    return res"
   ]
  },
  {
   "cell_type": "markdown",
   "metadata": {},
   "source": [
    "Use our tanimoto for similarity"
   ]
  },
  {
   "cell_type": "code",
   "execution_count": 38,
   "metadata": {},
   "outputs": [
    {
     "name": "stdout",
     "output_type": "stream",
     "text": [
      "[(5.0, \"Young Poisoner's Handbook, The (1995)\"), (5.0, 'Wild Reeds (1994)'), (5.0, 'Welcome to the Dollhouse (1995)'), (5.0, 'Usual Suspects, The (1995)'), (5.0, 'Up Close and Personal (1996)'), (5.0, 'True Romance (1993)'), (5.0, 'Story of Xinghua, The (1993)'), (5.0, 'Spitfire Grill, The (1996)'), (5.0, 'Silence of the Lambs, The (1991)'), (5.0, 'Shanghai Triad (Yao a yao yao dao waipo qiao) (1995)'), (5.0, 'Set It Off (1996)'), (5.0, 'Ransom (1996)'), (5.0, 'Princess Bride, The (1987)'), (5.0, 'Portrait of a Lady, The (1996)'), (5.0, 'Pillow Book, The (1995)'), (5.0, 'Patton (1970)'), (5.0, 'My Fair Lady (1964)'), (5.0, 'Mirror Has Two Faces, The (1996)'), (5.0, 'Mina Tannenbaum (1994)'), (5.0, 'Mallrats (1995)'), (5.0, 'Ma vie en rose (My Life in Pink) (1997)'), (5.0, 'Love! Valour! Compassion! (1997)'), (5.0, 'Lost Highway (1997)'), (5.0, 'Leaving Las Vegas (1995)'), (5.0, 'Killing Zoe (1994)'), (5.0, 'Jean de Florette (1986)'), (5.0, 'Jackal, The (1997)'), (5.0, 'I Shot Andy Warhol (1996)'), (5.0, 'Hotel de Love (1996)'), (5.0, 'Horseman on the Roof, The (Hussard sur le toit, Le) (1995)')]\n"
     ]
    }
   ],
   "source": [
    "print (reki3(prefs, '87')[0:30])"
   ]
  },
  {
   "cell_type": "code",
   "execution_count": null,
   "metadata": {},
   "outputs": [],
   "source": []
  }
 ],
 "metadata": {
  "kernelspec": {
   "display_name": "Python 3",
   "language": "python",
   "name": "python3"
  },
  "language_info": {
   "codemirror_mode": {
    "name": "ipython",
    "version": 3
   },
   "file_extension": ".py",
   "mimetype": "text/x-python",
   "name": "python",
   "nbconvert_exporter": "python",
   "pygments_lexer": "ipython3",
   "version": "3.7.9"
  }
 },
 "nbformat": 4,
 "nbformat_minor": 4
}
