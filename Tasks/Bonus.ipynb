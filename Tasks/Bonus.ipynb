{
 "cells": [
  {
   "cell_type": "code",
   "execution_count": 30,
   "metadata": {},
   "outputs": [],
   "source": [
    "import numpy as np\n",
    "import pandas as pd\n",
    "from sklearn.impute import SimpleImputer\n",
    "from sklearn.metrics import accuracy_score\n",
    "from sklearn.model_selection import train_test_split\n",
    "import matplotlib.pyplot as plt\n",
    "from sklearn import tree, metrics\n",
    "from sklearn.model_selection import train_test_split\n",
    "from scipy import stats\n",
    "import seaborn as sns\n",
    "from sklearn.linear_model import LinearRegression\n",
    "from sklearn import tree, metrics\n",
    "from sklearn.model_selection import train_test_split\n",
    "from sklearn.metrics import mean_squared_error\n",
    "from sklearn.tree import DecisionTreeClassifier\n",
    "import math"
   ]
  },
  {
   "cell_type": "code",
   "execution_count": 3,
   "metadata": {},
   "outputs": [
    {
     "data": {
      "text/html": [
       "<div>\n",
       "<style scoped>\n",
       "    .dataframe tbody tr th:only-of-type {\n",
       "        vertical-align: middle;\n",
       "    }\n",
       "\n",
       "    .dataframe tbody tr th {\n",
       "        vertical-align: top;\n",
       "    }\n",
       "\n",
       "    .dataframe thead th {\n",
       "        text-align: right;\n",
       "    }\n",
       "</style>\n",
       "<table border=\"1\" class=\"dataframe\">\n",
       "  <thead>\n",
       "    <tr style=\"text-align: right;\">\n",
       "      <th></th>\n",
       "      <th>1</th>\n",
       "      <th>2</th>\n",
       "      <th>3</th>\n",
       "      <th>4</th>\n",
       "      <th>5</th>\n",
       "      <th>6</th>\n",
       "      <th>7</th>\n",
       "      <th>8</th>\n",
       "      <th>Target</th>\n",
       "    </tr>\n",
       "  </thead>\n",
       "  <tbody>\n",
       "    <tr>\n",
       "      <th>0</th>\n",
       "      <td>1</td>\n",
       "      <td>0.350</td>\n",
       "      <td>0.260</td>\n",
       "      <td>0.095</td>\n",
       "      <td>0.2110</td>\n",
       "      <td>0.0860</td>\n",
       "      <td>0.0560</td>\n",
       "      <td>0.0680</td>\n",
       "      <td>7</td>\n",
       "    </tr>\n",
       "    <tr>\n",
       "      <th>1</th>\n",
       "      <td>1</td>\n",
       "      <td>0.275</td>\n",
       "      <td>0.200</td>\n",
       "      <td>0.065</td>\n",
       "      <td>0.1035</td>\n",
       "      <td>0.0475</td>\n",
       "      <td>0.0205</td>\n",
       "      <td>0.0300</td>\n",
       "      <td>7</td>\n",
       "    </tr>\n",
       "    <tr>\n",
       "      <th>2</th>\n",
       "      <td>1</td>\n",
       "      <td>0.595</td>\n",
       "      <td>0.475</td>\n",
       "      <td>0.155</td>\n",
       "      <td>0.9840</td>\n",
       "      <td>0.4865</td>\n",
       "      <td>0.1840</td>\n",
       "      <td>0.2755</td>\n",
       "      <td>10</td>\n",
       "    </tr>\n",
       "    <tr>\n",
       "      <th>3</th>\n",
       "      <td>2</td>\n",
       "      <td>0.670</td>\n",
       "      <td>0.550</td>\n",
       "      <td>0.170</td>\n",
       "      <td>1.2470</td>\n",
       "      <td>0.4720</td>\n",
       "      <td>0.2455</td>\n",
       "      <td>0.4000</td>\n",
       "      <td>21</td>\n",
       "    </tr>\n",
       "    <tr>\n",
       "      <th>4</th>\n",
       "      <td>2</td>\n",
       "      <td>0.645</td>\n",
       "      <td>0.510</td>\n",
       "      <td>0.190</td>\n",
       "      <td>1.4745</td>\n",
       "      <td>0.6050</td>\n",
       "      <td>0.3450</td>\n",
       "      <td>0.4800</td>\n",
       "      <td>9</td>\n",
       "    </tr>\n",
       "    <tr>\n",
       "      <th>...</th>\n",
       "      <td>...</td>\n",
       "      <td>...</td>\n",
       "      <td>...</td>\n",
       "      <td>...</td>\n",
       "      <td>...</td>\n",
       "      <td>...</td>\n",
       "      <td>...</td>\n",
       "      <td>...</td>\n",
       "      <td>...</td>\n",
       "    </tr>\n",
       "    <tr>\n",
       "      <th>2918</th>\n",
       "      <td>1</td>\n",
       "      <td>0.550</td>\n",
       "      <td>0.430</td>\n",
       "      <td>0.145</td>\n",
       "      <td>0.7120</td>\n",
       "      <td>0.3025</td>\n",
       "      <td>0.1520</td>\n",
       "      <td>0.2250</td>\n",
       "      <td>10</td>\n",
       "    </tr>\n",
       "    <tr>\n",
       "      <th>2919</th>\n",
       "      <td>0</td>\n",
       "      <td>0.580</td>\n",
       "      <td>0.435</td>\n",
       "      <td>0.150</td>\n",
       "      <td>0.8390</td>\n",
       "      <td>0.3485</td>\n",
       "      <td>0.2070</td>\n",
       "      <td>0.1920</td>\n",
       "      <td>7</td>\n",
       "    </tr>\n",
       "    <tr>\n",
       "      <th>2920</th>\n",
       "      <td>0</td>\n",
       "      <td>0.650</td>\n",
       "      <td>0.500</td>\n",
       "      <td>0.165</td>\n",
       "      <td>1.1445</td>\n",
       "      <td>0.4850</td>\n",
       "      <td>0.2180</td>\n",
       "      <td>0.3650</td>\n",
       "      <td>12</td>\n",
       "    </tr>\n",
       "    <tr>\n",
       "      <th>2921</th>\n",
       "      <td>1</td>\n",
       "      <td>0.630</td>\n",
       "      <td>0.490</td>\n",
       "      <td>0.170</td>\n",
       "      <td>1.2170</td>\n",
       "      <td>0.5515</td>\n",
       "      <td>0.2120</td>\n",
       "      <td>0.3100</td>\n",
       "      <td>11</td>\n",
       "    </tr>\n",
       "    <tr>\n",
       "      <th>2922</th>\n",
       "      <td>1</td>\n",
       "      <td>0.420</td>\n",
       "      <td>0.320</td>\n",
       "      <td>0.100</td>\n",
       "      <td>0.3400</td>\n",
       "      <td>0.1745</td>\n",
       "      <td>0.0500</td>\n",
       "      <td>0.0945</td>\n",
       "      <td>8</td>\n",
       "    </tr>\n",
       "  </tbody>\n",
       "</table>\n",
       "<p>2923 rows × 9 columns</p>\n",
       "</div>"
      ],
      "text/plain": [
       "      1      2      3      4       5       6       7       8  Target\n",
       "0     1  0.350  0.260  0.095  0.2110  0.0860  0.0560  0.0680       7\n",
       "1     1  0.275  0.200  0.065  0.1035  0.0475  0.0205  0.0300       7\n",
       "2     1  0.595  0.475  0.155  0.9840  0.4865  0.1840  0.2755      10\n",
       "3     2  0.670  0.550  0.170  1.2470  0.4720  0.2455  0.4000      21\n",
       "4     2  0.645  0.510  0.190  1.4745  0.6050  0.3450  0.4800       9\n",
       "...  ..    ...    ...    ...     ...     ...     ...     ...     ...\n",
       "2918  1  0.550  0.430  0.145  0.7120  0.3025  0.1520  0.2250      10\n",
       "2919  0  0.580  0.435  0.150  0.8390  0.3485  0.2070  0.1920       7\n",
       "2920  0  0.650  0.500  0.165  1.1445  0.4850  0.2180  0.3650      12\n",
       "2921  1  0.630  0.490  0.170  1.2170  0.5515  0.2120  0.3100      11\n",
       "2922  1  0.420  0.320  0.100  0.3400  0.1745  0.0500  0.0945       8\n",
       "\n",
       "[2923 rows x 9 columns]"
      ]
     },
     "execution_count": 3,
     "metadata": {},
     "output_type": "execute_result"
    }
   ],
   "source": [
    "filename=\"train.csv\"\n",
    "filename2=\"test.csv\"\n",
    "data=pd.read_csv(filename, delimiter=',')\n",
    "data2=pd.read_csv(filename2,delimiter=',')\n",
    "data"
   ]
  },
  {
   "cell_type": "code",
   "execution_count": 4,
   "metadata": {},
   "outputs": [],
   "source": [
    "xarr = np.array(data)\n",
    "X = data.iloc[:, :-1].values\n",
    "y = data.iloc[:,-1:]\n"
   ]
  },
  {
   "cell_type": "code",
   "execution_count": 5,
   "metadata": {},
   "outputs": [
    {
     "data": {
      "text/plain": [
       "(2923, 9)"
      ]
     },
     "execution_count": 5,
     "metadata": {},
     "output_type": "execute_result"
    }
   ],
   "source": [
    "data.head()\n",
    "xarr.shape\n",
    "data.shape"
   ]
  },
  {
   "cell_type": "code",
   "execution_count": 49,
   "metadata": {},
   "outputs": [
    {
     "data": {
      "text/plain": [
       "<matplotlib.axes._subplots.AxesSubplot at 0x1bcc2f40608>"
      ]
     },
     "execution_count": 49,
     "metadata": {},
     "output_type": "execute_result"
    },
    {
     "data": {
      "image/png": "[encoded data removed]",
      "text/plain": [
       "<Figure size 432x288 with 1 Axes>"
      ]
     },
     "metadata": {
      "needs_background": "light"
     },
     "output_type": "display_data"
    }
   ],
   "source": [
    "\n",
    "sns.boxplot(data=data,x=data['2'])"
   ]
  },
  {
   "cell_type": "code",
   "execution_count": 50,
   "metadata": {},
   "outputs": [
    {
     "data": {
      "text/plain": [
       "<matplotlib.axes._subplots.AxesSubplot at 0x1bcc2fa97c8>"
      ]
     },
     "execution_count": 50,
     "metadata": {},
     "output_type": "execute_result"
    },
    {
     "data": {
      "image/png": "[encoded data removed]",
      "text/plain": [
       "<Figure size 432x288 with 1 Axes>"
      ]
     },
     "metadata": {
      "needs_background": "light"
     },
     "output_type": "display_data"
    }
   ],
   "source": [
    "\n",
    "sns.boxplot(data=data,x=data['3'])"
   ]
  },
  {
   "cell_type": "code",
   "execution_count": 51,
   "metadata": {},
   "outputs": [
    {
     "data": {
      "text/plain": [
       "<matplotlib.axes._subplots.AxesSubplot at 0x1bcc3001dc8>"
      ]
     },
     "execution_count": 51,
     "metadata": {},
     "output_type": "execute_result"
    },
    {
     "data": {
      "image/png": "[encoded data removed]",
      "text/plain": [
       "<Figure size 432x288 with 1 Axes>"
      ]
     },
     "metadata": {
      "needs_background": "light"
     },
     "output_type": "display_data"
    }
   ],
   "source": [
    "\n",
    "sns.boxplot(data=data,x=data['4'])"
   ]
  },
  {
   "cell_type": "code",
   "execution_count": 52,
   "metadata": {},
   "outputs": [
    {
     "data": {
      "text/plain": [
       "<matplotlib.axes._subplots.AxesSubplot at 0x1bcc2788708>"
      ]
     },
     "execution_count": 52,
     "metadata": {},
     "output_type": "execute_result"
    },
    {
     "data": {
      "image/png": "[encoded data removed]",
      "text/plain": [
       "<Figure size 432x288 with 1 Axes>"
      ]
     },
     "metadata": {
      "needs_background": "light"
     },
     "output_type": "display_data"
    }
   ],
   "source": [
    "\n",
    "sns.boxplot(data=data,x=data['5'])"
   ]
  },
  {
   "cell_type": "code",
   "execution_count": 53,
   "metadata": {},
   "outputs": [
    {
     "data": {
      "text/plain": [
       "<matplotlib.axes._subplots.AxesSubplot at 0x1bcc2f99cc8>"
      ]
     },
     "execution_count": 53,
     "metadata": {},
     "output_type": "execute_result"
    },
    {
     "data": {
      "image/png": "[encoded data removed]",
      "text/plain": [
       "<Figure size 432x288 with 1 Axes>"
      ]
     },
     "metadata": {
      "needs_background": "light"
     },
     "output_type": "display_data"
    }
   ],
   "source": [
    "sns.boxplot(data=data,x=data['6'])"
   ]
  },
  {
   "cell_type": "code",
   "execution_count": 55,
   "metadata": {},
   "outputs": [
    {
     "data": {
      "text/plain": [
       "<matplotlib.axes._subplots.AxesSubplot at 0x1bcc2704188>"
      ]
     },
     "execution_count": 55,
     "metadata": {},
     "output_type": "execute_result"
    },
    {
     "data": {
      "image/png": "[encoded data removed]",
      "text/plain": [
       "<Figure size 432x288 with 1 Axes>"
      ]
     },
     "metadata": {
      "needs_background": "light"
     },
     "output_type": "display_data"
    }
   ],
   "source": [
    "sns.boxplot(data=data,x=data['7'])"
   ]
  },
  {
   "cell_type": "code",
   "execution_count": 56,
   "metadata": {},
   "outputs": [
    {
     "data": {
      "text/plain": [
       "<matplotlib.axes._subplots.AxesSubplot at 0x1bcbb7d9808>"
      ]
     },
     "execution_count": 56,
     "metadata": {},
     "output_type": "execute_result"
    },
    {
     "data": {
      "image/png": "[encoded data removed]",
      "text/plain": [
       "<Figure size 432x288 with 1 Axes>"
      ]
     },
     "metadata": {
      "needs_background": "light"
     },
     "output_type": "display_data"
    }
   ],
   "source": [
    "sns.boxplot(data=data,x=data['8'])"
   ]
  },
  {
   "cell_type": "code",
   "execution_count": 81,
   "metadata": {},
   "outputs": [
    {
     "data": {
      "text/plain": [
       "<matplotlib.axes._subplots.AxesSubplot at 0x1bcc2bded88>"
      ]
     },
     "execution_count": 81,
     "metadata": {},
     "output_type": "execute_result"
    },
    {
     "data": {
      "image/png": "[encoded data removed]",
      "text/plain": [
       "<Figure size 432x288 with 1 Axes>"
      ]
     },
     "metadata": {
      "needs_background": "light"
     },
     "output_type": "display_data"
    }
   ],
   "source": [
    "sns.boxplot(data=newdata,x=newdata['4'])\n",
    "#data without outliers"
   ]
  },
  {
   "cell_type": "code",
   "execution_count": 8,
   "metadata": {},
   "outputs": [
    {
     "data": {
      "image/png": "[encoded data removed]",
      "text/plain": [
       "<Figure size 288x288 with 1 Axes>"
      ]
     },
     "metadata": {
      "needs_background": "light"
     },
     "output_type": "display_data"
    }
   ],
   "source": [
    "plt.matshow(data.corr())\n",
    "plt.show()"
   ]
  },
  {
   "cell_type": "code",
   "execution_count": null,
   "metadata": {},
   "outputs": [],
   "source": []
  },
  {
   "cell_type": "code",
   "execution_count": 6,
   "metadata": {},
   "outputs": [
    {
     "name": "stdout",
     "output_type": "stream",
     "text": [
      "[[0.06207032 1.45311106 1.49881921 ... 1.24046161 1.13225643 1.22723472]\n",
      " [0.06207032 2.08055864 2.10861093 ... 1.41632533 1.45606742 1.50143362]\n",
      " [0.06207032 0.59655103 0.68626776 ... 0.58897796 0.03528745 0.27003558]\n",
      " ...\n",
      " [1.27973164 1.05667925 0.94034764 ... 0.58212612 0.34541629 0.91584614]\n",
      " [0.06207032 0.8893599  0.83871569 ... 0.88589074 0.29068767 0.51897932]\n",
      " [0.06207032 0.86749332 0.8890275  ... 0.83620343 1.18698505 1.03601707]]\n",
      "      1      2      3      4       5       6       7       8  Target\n",
      "0     1  0.350  0.260  0.095  0.2110  0.0860  0.0560  0.0680       7\n",
      "1     1  0.275  0.200  0.065  0.1035  0.0475  0.0205  0.0300       7\n",
      "2     1  0.595  0.475  0.155  0.9840  0.4865  0.1840  0.2755      10\n",
      "3     2  0.670  0.550  0.170  1.2470  0.4720  0.2455  0.4000      21\n",
      "4     2  0.645  0.510  0.190  1.4745  0.6050  0.3450  0.4800       9\n",
      "...  ..    ...    ...    ...     ...     ...     ...     ...     ...\n",
      "2918  1  0.550  0.430  0.145  0.7120  0.3025  0.1520  0.2250      10\n",
      "2919  0  0.580  0.435  0.150  0.8390  0.3485  0.2070  0.1920       7\n",
      "2920  0  0.650  0.500  0.165  1.1445  0.4850  0.2180  0.3650      12\n",
      "2921  1  0.630  0.490  0.170  1.2170  0.5515  0.2120  0.3100      11\n",
      "2922  1  0.420  0.320  0.100  0.3400  0.1745  0.0500  0.0945       8\n",
      "\n",
      "[2776 rows x 9 columns]\n"
     ]
    }
   ],
   "source": [
    "z=np.abs(stats.zscore(X))\n",
    "print(z)\n",
    "filtr=(z<2.5).all(axis=1)\n",
    "newdata=data[filtr]\n",
    "print(newdata)\n",
    "#new data without outliers\n"
   ]
  },
  {
   "cell_type": "code",
   "execution_count": 7,
   "metadata": {},
   "outputs": [
    {
     "data": {
      "text/html": [
       "<div>\n",
       "<style scoped>\n",
       "    .dataframe tbody tr th:only-of-type {\n",
       "        vertical-align: middle;\n",
       "    }\n",
       "\n",
       "    .dataframe tbody tr th {\n",
       "        vertical-align: top;\n",
       "    }\n",
       "\n",
       "    .dataframe thead th {\n",
       "        text-align: right;\n",
       "    }\n",
       "</style>\n",
       "<table border=\"1\" class=\"dataframe\">\n",
       "  <thead>\n",
       "    <tr style=\"text-align: right;\">\n",
       "      <th></th>\n",
       "      <th>1</th>\n",
       "      <th>2</th>\n",
       "      <th>3</th>\n",
       "      <th>4</th>\n",
       "      <th>5</th>\n",
       "      <th>6</th>\n",
       "      <th>7</th>\n",
       "      <th>8</th>\n",
       "      <th>Target</th>\n",
       "    </tr>\n",
       "  </thead>\n",
       "  <tbody>\n",
       "    <tr>\n",
       "      <th>0</th>\n",
       "      <td>1</td>\n",
       "      <td>0.350</td>\n",
       "      <td>0.260</td>\n",
       "      <td>0.095</td>\n",
       "      <td>0.2110</td>\n",
       "      <td>0.0860</td>\n",
       "      <td>0.0560</td>\n",
       "      <td>0.0680</td>\n",
       "      <td>7</td>\n",
       "    </tr>\n",
       "    <tr>\n",
       "      <th>1</th>\n",
       "      <td>1</td>\n",
       "      <td>0.275</td>\n",
       "      <td>0.200</td>\n",
       "      <td>0.065</td>\n",
       "      <td>0.1035</td>\n",
       "      <td>0.0475</td>\n",
       "      <td>0.0205</td>\n",
       "      <td>0.0300</td>\n",
       "      <td>7</td>\n",
       "    </tr>\n",
       "    <tr>\n",
       "      <th>2</th>\n",
       "      <td>1</td>\n",
       "      <td>0.595</td>\n",
       "      <td>0.475</td>\n",
       "      <td>0.155</td>\n",
       "      <td>0.9840</td>\n",
       "      <td>0.4865</td>\n",
       "      <td>0.1840</td>\n",
       "      <td>0.2755</td>\n",
       "      <td>10</td>\n",
       "    </tr>\n",
       "    <tr>\n",
       "      <th>3</th>\n",
       "      <td>2</td>\n",
       "      <td>0.670</td>\n",
       "      <td>0.550</td>\n",
       "      <td>0.170</td>\n",
       "      <td>1.2470</td>\n",
       "      <td>0.4720</td>\n",
       "      <td>0.2455</td>\n",
       "      <td>0.4000</td>\n",
       "      <td>21</td>\n",
       "    </tr>\n",
       "    <tr>\n",
       "      <th>4</th>\n",
       "      <td>2</td>\n",
       "      <td>0.645</td>\n",
       "      <td>0.510</td>\n",
       "      <td>0.190</td>\n",
       "      <td>1.4745</td>\n",
       "      <td>0.6050</td>\n",
       "      <td>0.3450</td>\n",
       "      <td>0.4800</td>\n",
       "      <td>9</td>\n",
       "    </tr>\n",
       "    <tr>\n",
       "      <th>...</th>\n",
       "      <td>...</td>\n",
       "      <td>...</td>\n",
       "      <td>...</td>\n",
       "      <td>...</td>\n",
       "      <td>...</td>\n",
       "      <td>...</td>\n",
       "      <td>...</td>\n",
       "      <td>...</td>\n",
       "      <td>...</td>\n",
       "    </tr>\n",
       "    <tr>\n",
       "      <th>2918</th>\n",
       "      <td>1</td>\n",
       "      <td>0.550</td>\n",
       "      <td>0.430</td>\n",
       "      <td>0.145</td>\n",
       "      <td>0.7120</td>\n",
       "      <td>0.3025</td>\n",
       "      <td>0.1520</td>\n",
       "      <td>0.2250</td>\n",
       "      <td>10</td>\n",
       "    </tr>\n",
       "    <tr>\n",
       "      <th>2919</th>\n",
       "      <td>0</td>\n",
       "      <td>0.580</td>\n",
       "      <td>0.435</td>\n",
       "      <td>0.150</td>\n",
       "      <td>0.8390</td>\n",
       "      <td>0.3485</td>\n",
       "      <td>0.2070</td>\n",
       "      <td>0.1920</td>\n",
       "      <td>7</td>\n",
       "    </tr>\n",
       "    <tr>\n",
       "      <th>2920</th>\n",
       "      <td>0</td>\n",
       "      <td>0.650</td>\n",
       "      <td>0.500</td>\n",
       "      <td>0.165</td>\n",
       "      <td>1.1445</td>\n",
       "      <td>0.4850</td>\n",
       "      <td>0.2180</td>\n",
       "      <td>0.3650</td>\n",
       "      <td>12</td>\n",
       "    </tr>\n",
       "    <tr>\n",
       "      <th>2921</th>\n",
       "      <td>1</td>\n",
       "      <td>0.630</td>\n",
       "      <td>0.490</td>\n",
       "      <td>0.170</td>\n",
       "      <td>1.2170</td>\n",
       "      <td>0.5515</td>\n",
       "      <td>0.2120</td>\n",
       "      <td>0.3100</td>\n",
       "      <td>11</td>\n",
       "    </tr>\n",
       "    <tr>\n",
       "      <th>2922</th>\n",
       "      <td>1</td>\n",
       "      <td>0.420</td>\n",
       "      <td>0.320</td>\n",
       "      <td>0.100</td>\n",
       "      <td>0.3400</td>\n",
       "      <td>0.1745</td>\n",
       "      <td>0.0500</td>\n",
       "      <td>0.0945</td>\n",
       "      <td>8</td>\n",
       "    </tr>\n",
       "  </tbody>\n",
       "</table>\n",
       "<p>2776 rows × 9 columns</p>\n",
       "</div>"
      ],
      "text/plain": [
       "      1      2      3      4       5       6       7       8  Target\n",
       "0     1  0.350  0.260  0.095  0.2110  0.0860  0.0560  0.0680       7\n",
       "1     1  0.275  0.200  0.065  0.1035  0.0475  0.0205  0.0300       7\n",
       "2     1  0.595  0.475  0.155  0.9840  0.4865  0.1840  0.2755      10\n",
       "3     2  0.670  0.550  0.170  1.2470  0.4720  0.2455  0.4000      21\n",
       "4     2  0.645  0.510  0.190  1.4745  0.6050  0.3450  0.4800       9\n",
       "...  ..    ...    ...    ...     ...     ...     ...     ...     ...\n",
       "2918  1  0.550  0.430  0.145  0.7120  0.3025  0.1520  0.2250      10\n",
       "2919  0  0.580  0.435  0.150  0.8390  0.3485  0.2070  0.1920       7\n",
       "2920  0  0.650  0.500  0.165  1.1445  0.4850  0.2180  0.3650      12\n",
       "2921  1  0.630  0.490  0.170  1.2170  0.5515  0.2120  0.3100      11\n",
       "2922  1  0.420  0.320  0.100  0.3400  0.1745  0.0500  0.0945       8\n",
       "\n",
       "[2776 rows x 9 columns]"
      ]
     },
     "execution_count": 7,
     "metadata": {},
     "output_type": "execute_result"
    }
   ],
   "source": [
    "newdata[newdata.notnull()]"
   ]
  },
  {
   "cell_type": "code",
   "execution_count": 8,
   "metadata": {},
   "outputs": [
    {
     "data": {
      "text/html": [
       "<div>\n",
       "<style scoped>\n",
       "    .dataframe tbody tr th:only-of-type {\n",
       "        vertical-align: middle;\n",
       "    }\n",
       "\n",
       "    .dataframe tbody tr th {\n",
       "        vertical-align: top;\n",
       "    }\n",
       "\n",
       "    .dataframe thead th {\n",
       "        text-align: right;\n",
       "    }\n",
       "</style>\n",
       "<table border=\"1\" class=\"dataframe\">\n",
       "  <thead>\n",
       "    <tr style=\"text-align: right;\">\n",
       "      <th></th>\n",
       "      <th>Target</th>\n",
       "    </tr>\n",
       "  </thead>\n",
       "  <tbody>\n",
       "    <tr>\n",
       "      <th>0</th>\n",
       "      <td>7</td>\n",
       "    </tr>\n",
       "    <tr>\n",
       "      <th>1</th>\n",
       "      <td>7</td>\n",
       "    </tr>\n",
       "    <tr>\n",
       "      <th>2</th>\n",
       "      <td>10</td>\n",
       "    </tr>\n",
       "    <tr>\n",
       "      <th>3</th>\n",
       "      <td>21</td>\n",
       "    </tr>\n",
       "    <tr>\n",
       "      <th>4</th>\n",
       "      <td>9</td>\n",
       "    </tr>\n",
       "    <tr>\n",
       "      <th>...</th>\n",
       "      <td>...</td>\n",
       "    </tr>\n",
       "    <tr>\n",
       "      <th>2918</th>\n",
       "      <td>10</td>\n",
       "    </tr>\n",
       "    <tr>\n",
       "      <th>2919</th>\n",
       "      <td>7</td>\n",
       "    </tr>\n",
       "    <tr>\n",
       "      <th>2920</th>\n",
       "      <td>12</td>\n",
       "    </tr>\n",
       "    <tr>\n",
       "      <th>2921</th>\n",
       "      <td>11</td>\n",
       "    </tr>\n",
       "    <tr>\n",
       "      <th>2922</th>\n",
       "      <td>8</td>\n",
       "    </tr>\n",
       "  </tbody>\n",
       "</table>\n",
       "<p>2776 rows × 1 columns</p>\n",
       "</div>"
      ],
      "text/plain": [
       "      Target\n",
       "0          7\n",
       "1          7\n",
       "2         10\n",
       "3         21\n",
       "4          9\n",
       "...      ...\n",
       "2918      10\n",
       "2919       7\n",
       "2920      12\n",
       "2921      11\n",
       "2922       8\n",
       "\n",
       "[2776 rows x 1 columns]"
      ]
     },
     "execution_count": 8,
     "metadata": {},
     "output_type": "execute_result"
    }
   ],
   "source": [
    "newx = newdata.iloc[:, :-1].values\n",
    "newy= newdata.iloc[:,-1:]\n",
    "newy"
   ]
  },
  {
   "cell_type": "code",
   "execution_count": 41,
   "metadata": {},
   "outputs": [
    {
     "data": {
      "text/plain": [
       "array([[1.    , 0.315 , 0.235 , ..., 0.08  , 0.045 , 0.047 ],\n",
       "       [1.    , 0.36  , 0.28  , ..., 0.0885, 0.04  , 0.09  ],\n",
       "       [1.    , 0.375 , 0.275 , ..., 0.095 , 0.0545, 0.066 ],\n",
       "       ...,\n",
       "       [1.    , 0.615 , 0.49  , ..., 0.4145, 0.195 , 0.345 ],\n",
       "       [2.    , 0.35  , 0.255 , ..., 0.0705, 0.0385, 0.06  ],\n",
       "       [2.    , 0.51  , 0.415 , ..., 0.3295, 0.1835, 0.203 ]])"
      ]
     },
     "execution_count": 41,
     "metadata": {},
     "output_type": "execute_result"
    }
   ],
   "source": [
    "def traintest():\n",
    "    return train_test_split(newx,newy, test_size=0.20, random_state=0)\n",
    "\n",
    "x_train, x_test, y_train, y_test = traintest()\n",
    "traintest()\n",
    "x_train\n",
    "y_train=np.array(y_train)\n",
    "len(x_train),len(x_test)\n",
    "x_test\n",
    "x_train"
   ]
  },
  {
   "cell_type": "code",
   "execution_count": 10,
   "metadata": {},
   "outputs": [
    {
     "name": "stderr",
     "output_type": "stream",
     "text": [
      "C:\\Users\\User\\Anaconda3\\envs\\ML\\lib\\site-packages\\sklearn\\utils\\validation.py:72: DataConversionWarning: A column-vector y was passed when a 1d array was expected. Please change the shape of y to (n_samples, ), for example using ravel().\n",
      "  return f(**kwargs)\n"
     ]
    },
    {
     "data": {
      "text/plain": [
       "array([ 8, 10,  7,  9,  8,  8,  8,  7,  8,  7,  7,  9, 10, 10,  7,  5,  8,\n",
       "        9,  8,  9,  7, 10,  9, 10, 10, 10,  8,  7,  9, 10,  8,  5, 10,  9,\n",
       "        9,  7, 10,  8,  7, 10,  9,  9,  7,  9,  9,  9,  7, 10,  9, 10,  8,\n",
       "       10,  8,  7,  9, 10, 10,  7,  8,  9,  8, 10, 10,  8,  8,  9, 10,  9,\n",
       "        7,  7,  7,  9, 10, 10,  9,  9, 10,  9,  8, 10, 10, 10, 10, 10,  9,\n",
       "       10, 10,  9,  8,  9, 10,  7, 10,  7, 10, 10,  9,  8,  7,  9, 10, 10,\n",
       "        8,  7,  5,  9,  7,  7,  9,  9, 10,  8,  9,  9,  7,  8,  9,  7,  7,\n",
       "        7,  9, 10, 10,  9,  8,  9,  9,  9,  8,  9,  9,  9,  7, 10,  8,  8,\n",
       "        8,  7,  7,  7,  9, 10,  9,  7, 10, 10, 10,  7,  7,  8,  9, 10, 10,\n",
       "        7,  8,  9,  7,  7,  8,  7,  7, 10,  9, 10,  7,  8,  7, 10,  9,  9,\n",
       "        9, 10,  7,  7,  8,  7,  7,  9,  7,  7, 10,  9,  9,  8,  9,  7,  7,\n",
       "       10, 10,  7,  9,  7,  8, 10,  7,  9,  9,  7, 10,  7, 10, 10,  9,  8,\n",
       "       10, 10,  7, 10,  7, 10,  8,  9,  7,  9,  8,  7,  9, 10,  8,  8,  7,\n",
       "        9, 10,  8,  9, 10,  9,  7,  9,  8, 10,  8,  9,  7, 10, 10,  7,  8,\n",
       "        9,  9,  9,  9,  7, 10,  9,  7, 10,  7,  9,  9, 10,  7,  7,  7,  8,\n",
       "        7, 10,  7,  7,  7, 10,  7,  9,  8,  8, 10,  7,  8,  8, 10,  8,  7,\n",
       "        7,  8,  9,  8, 10,  7, 10,  7, 10,  8,  9,  8,  9,  9, 10, 10,  9,\n",
       "        9,  8,  8, 10,  7, 10,  8,  9,  9, 10,  8,  8, 10,  8, 10,  8,  7,\n",
       "       10, 10, 10,  9,  7,  7,  9,  9, 10,  5,  7,  9,  7,  7, 10,  7, 10,\n",
       "        9,  9,  9, 10, 10, 10,  9, 10, 10,  8,  9,  8, 10,  9,  9,  7,  9,\n",
       "        8,  9,  7,  9,  7, 10,  7,  9, 10, 10, 10, 10,  7,  9, 10,  7,  9,\n",
       "        8,  9,  9,  7,  9, 10,  7, 10,  9,  8,  8,  7, 10, 10,  8, 10,  7,\n",
       "        9,  7,  7, 10,  8, 10,  7, 10,  7, 10, 10,  9, 10, 10,  7,  9,  8,\n",
       "       10,  9,  7,  9, 10, 10,  9,  9,  7, 10, 10,  7,  8,  9, 10, 10,  9,\n",
       "        7, 10,  9, 10,  7,  7,  9, 10,  7,  9,  7,  7,  7, 10,  9, 10,  9,\n",
       "        9, 10,  7, 10, 10, 10, 10,  9, 10,  9,  9,  7,  7,  9,  7, 10,  8,\n",
       "        9,  9,  7, 10,  8, 10,  9, 10, 10,  9,  9, 10,  8,  9, 10,  7,  7,\n",
       "        7, 10,  8,  9,  9, 10,  9, 10,  9,  9,  7,  8,  8,  9,  7,  7,  9,\n",
       "       10,  9, 10,  5,  7,  9,  9,  9,  8, 10,  7,  9,  7,  7,  8,  9, 10,\n",
       "        9,  7,  9, 10,  8,  9,  8, 10,  9,  7,  9,  7,  9,  7,  8,  9,  9,\n",
       "        7,  7,  9, 10,  7, 10,  7,  9,  7,  9,  8,  9,  8,  9,  8,  7,  8,\n",
       "        7, 10,  9,  7,  9,  9, 10,  9, 10,  8,  7,  8, 10,  7,  9,  8, 10,\n",
       "        9,  7,  9,  8,  8,  7,  8, 10,  9, 10, 10,  7], dtype=int64)"
      ]
     },
     "execution_count": 10,
     "metadata": {},
     "output_type": "execute_result"
    }
   ],
   "source": [
    "from sklearn.svm import SVC\n",
    "clf = SVC(kernel='linear')\n",
    "clf.fit(x_train, y_train)\n",
    "predSVC = clf.predict(x_test)\n",
    "predSVC"
   ]
  },
  {
   "cell_type": "code",
   "execution_count": 11,
   "metadata": {},
   "outputs": [
    {
     "data": {
      "text/plain": [
       "23.381294964028775"
      ]
     },
     "execution_count": 11,
     "metadata": {},
     "output_type": "execute_result"
    }
   ],
   "source": [
    "accSVC=accuracy_score(y_test,predSVC)\n",
    "accSVC*100"
   ]
  },
  {
   "cell_type": "code",
   "execution_count": 42,
   "metadata": {},
   "outputs": [
    {
     "data": {
      "text/html": [
       "<div>\n",
       "<style scoped>\n",
       "    .dataframe tbody tr th:only-of-type {\n",
       "        vertical-align: middle;\n",
       "    }\n",
       "\n",
       "    .dataframe tbody tr th {\n",
       "        vertical-align: top;\n",
       "    }\n",
       "\n",
       "    .dataframe thead th {\n",
       "        text-align: right;\n",
       "    }\n",
       "</style>\n",
       "<table border=\"1\" class=\"dataframe\">\n",
       "  <thead>\n",
       "    <tr style=\"text-align: right;\">\n",
       "      <th></th>\n",
       "      <th>Target</th>\n",
       "    </tr>\n",
       "  </thead>\n",
       "  <tbody>\n",
       "    <tr>\n",
       "      <th>1193</th>\n",
       "      <td>8</td>\n",
       "    </tr>\n",
       "    <tr>\n",
       "      <th>859</th>\n",
       "      <td>17</td>\n",
       "    </tr>\n",
       "    <tr>\n",
       "      <th>2874</th>\n",
       "      <td>6</td>\n",
       "    </tr>\n",
       "    <tr>\n",
       "      <th>129</th>\n",
       "      <td>8</td>\n",
       "    </tr>\n",
       "    <tr>\n",
       "      <th>663</th>\n",
       "      <td>18</td>\n",
       "    </tr>\n",
       "    <tr>\n",
       "      <th>...</th>\n",
       "      <td>...</td>\n",
       "    </tr>\n",
       "    <tr>\n",
       "      <th>459</th>\n",
       "      <td>9</td>\n",
       "    </tr>\n",
       "    <tr>\n",
       "      <th>2150</th>\n",
       "      <td>8</td>\n",
       "    </tr>\n",
       "    <tr>\n",
       "      <th>2478</th>\n",
       "      <td>8</td>\n",
       "    </tr>\n",
       "    <tr>\n",
       "      <th>1849</th>\n",
       "      <td>10</td>\n",
       "    </tr>\n",
       "    <tr>\n",
       "      <th>1405</th>\n",
       "      <td>9</td>\n",
       "    </tr>\n",
       "  </tbody>\n",
       "</table>\n",
       "<p>556 rows × 1 columns</p>\n",
       "</div>"
      ],
      "text/plain": [
       "      Target\n",
       "1193       8\n",
       "859       17\n",
       "2874       6\n",
       "129        8\n",
       "663       18\n",
       "...      ...\n",
       "459        9\n",
       "2150       8\n",
       "2478       8\n",
       "1849      10\n",
       "1405       9\n",
       "\n",
       "[556 rows x 1 columns]"
      ]
     },
     "execution_count": 42,
     "metadata": {},
     "output_type": "execute_result"
    }
   ],
   "source": [
    "from sklearn.linear_model import LinearRegression\n",
    "model = LinearRegression()\n",
    "model = LinearRegression().fit(x_train, y_train)\n",
    "y_pred = model.predict(x_test)\n",
    "y_test=np.array(y_test)\n"
   ]
  },
  {
   "cell_type": "code",
   "execution_count": 35,
   "metadata": {},
   "outputs": [
    {
     "name": "stdout",
     "output_type": "stream",
     "text": [
      "tree rmse\n",
      "2.8211049419554\n",
      "linear rmse\n",
      "1.9727375406759589\n"
     ]
    }
   ],
   "source": [
    "tree = DecisionTreeClassifier()\n",
    "tree = tree.fit(x_train,y_train)\n",
    "pred = tree.predict(x_test)\n",
    "MSE = mean_squared_error(pred,y_test)\n",
    "RMSE = math.sqrt(MSE)\n",
    "print(\"tree rmse\")\n",
    "print(RMSE)\n",
    "\n",
    "MSE2 = mean_squared_error(y_pred,y_test)\n",
    "RMSE2 = math.sqrt(MSE2)\n",
    "print(\"linear rmse\")\n",
    "print(RMSE2)"
   ]
  },
  {
   "cell_type": "code",
   "execution_count": 32,
   "metadata": {},
   "outputs": [
    {
     "name": "stdout",
     "output_type": "stream",
     "text": [
      "Accuracy 0.1960431654676259\n"
     ]
    }
   ],
   "source": [
    "#thats why i should use less error model \n",
    "#it it linear regression\n"
   ]
  },
  {
   "cell_type": "code",
   "execution_count": 43,
   "metadata": {},
   "outputs": [
    {
     "data": {
      "text/html": [
       "<div>\n",
       "<style scoped>\n",
       "    .dataframe tbody tr th:only-of-type {\n",
       "        vertical-align: middle;\n",
       "    }\n",
       "\n",
       "    .dataframe tbody tr th {\n",
       "        vertical-align: top;\n",
       "    }\n",
       "\n",
       "    .dataframe thead th {\n",
       "        text-align: right;\n",
       "    }\n",
       "</style>\n",
       "<table border=\"1\" class=\"dataframe\">\n",
       "  <thead>\n",
       "    <tr style=\"text-align: right;\">\n",
       "      <th></th>\n",
       "      <th>1</th>\n",
       "      <th>2</th>\n",
       "      <th>3</th>\n",
       "      <th>4</th>\n",
       "      <th>5</th>\n",
       "      <th>6</th>\n",
       "      <th>7</th>\n",
       "      <th>8</th>\n",
       "    </tr>\n",
       "  </thead>\n",
       "  <tbody>\n",
       "    <tr>\n",
       "      <th>0</th>\n",
       "      <td>2</td>\n",
       "      <td>0.470</td>\n",
       "      <td>0.360</td>\n",
       "      <td>0.135</td>\n",
       "      <td>0.5010</td>\n",
       "      <td>0.1665</td>\n",
       "      <td>0.1150</td>\n",
       "      <td>0.1650</td>\n",
       "    </tr>\n",
       "    <tr>\n",
       "      <th>1</th>\n",
       "      <td>0</td>\n",
       "      <td>0.620</td>\n",
       "      <td>0.475</td>\n",
       "      <td>0.160</td>\n",
       "      <td>1.3245</td>\n",
       "      <td>0.6865</td>\n",
       "      <td>0.2330</td>\n",
       "      <td>0.3275</td>\n",
       "    </tr>\n",
       "    <tr>\n",
       "      <th>2</th>\n",
       "      <td>2</td>\n",
       "      <td>0.560</td>\n",
       "      <td>0.425</td>\n",
       "      <td>0.135</td>\n",
       "      <td>0.9415</td>\n",
       "      <td>0.5090</td>\n",
       "      <td>0.2015</td>\n",
       "      <td>0.1975</td>\n",
       "    </tr>\n",
       "    <tr>\n",
       "      <th>3</th>\n",
       "      <td>1</td>\n",
       "      <td>0.455</td>\n",
       "      <td>0.345</td>\n",
       "      <td>0.110</td>\n",
       "      <td>0.4340</td>\n",
       "      <td>0.2070</td>\n",
       "      <td>0.0855</td>\n",
       "      <td>0.1215</td>\n",
       "    </tr>\n",
       "    <tr>\n",
       "      <th>4</th>\n",
       "      <td>1</td>\n",
       "      <td>0.185</td>\n",
       "      <td>0.130</td>\n",
       "      <td>0.045</td>\n",
       "      <td>0.0290</td>\n",
       "      <td>0.0120</td>\n",
       "      <td>0.0075</td>\n",
       "      <td>0.0095</td>\n",
       "    </tr>\n",
       "    <tr>\n",
       "      <th>...</th>\n",
       "      <td>...</td>\n",
       "      <td>...</td>\n",
       "      <td>...</td>\n",
       "      <td>...</td>\n",
       "      <td>...</td>\n",
       "      <td>...</td>\n",
       "      <td>...</td>\n",
       "      <td>...</td>\n",
       "    </tr>\n",
       "    <tr>\n",
       "      <th>1249</th>\n",
       "      <td>1</td>\n",
       "      <td>0.490</td>\n",
       "      <td>0.380</td>\n",
       "      <td>0.120</td>\n",
       "      <td>0.5290</td>\n",
       "      <td>0.2165</td>\n",
       "      <td>0.1390</td>\n",
       "      <td>0.1550</td>\n",
       "    </tr>\n",
       "    <tr>\n",
       "      <th>1250</th>\n",
       "      <td>0</td>\n",
       "      <td>0.495</td>\n",
       "      <td>0.385</td>\n",
       "      <td>0.130</td>\n",
       "      <td>0.6905</td>\n",
       "      <td>0.3125</td>\n",
       "      <td>0.1790</td>\n",
       "      <td>0.1750</td>\n",
       "    </tr>\n",
       "    <tr>\n",
       "      <th>1251</th>\n",
       "      <td>2</td>\n",
       "      <td>0.370</td>\n",
       "      <td>0.280</td>\n",
       "      <td>0.105</td>\n",
       "      <td>0.2340</td>\n",
       "      <td>0.0905</td>\n",
       "      <td>0.0585</td>\n",
       "      <td>0.0750</td>\n",
       "    </tr>\n",
       "    <tr>\n",
       "      <th>1252</th>\n",
       "      <td>1</td>\n",
       "      <td>0.455</td>\n",
       "      <td>0.370</td>\n",
       "      <td>0.125</td>\n",
       "      <td>0.4330</td>\n",
       "      <td>0.2010</td>\n",
       "      <td>0.1265</td>\n",
       "      <td>0.1450</td>\n",
       "    </tr>\n",
       "    <tr>\n",
       "      <th>1253</th>\n",
       "      <td>2</td>\n",
       "      <td>0.570</td>\n",
       "      <td>0.460</td>\n",
       "      <td>0.150</td>\n",
       "      <td>1.0375</td>\n",
       "      <td>0.5415</td>\n",
       "      <td>0.2035</td>\n",
       "      <td>0.2500</td>\n",
       "    </tr>\n",
       "  </tbody>\n",
       "</table>\n",
       "<p>1254 rows × 8 columns</p>\n",
       "</div>"
      ],
      "text/plain": [
       "      1      2      3      4       5       6       7       8\n",
       "0     2  0.470  0.360  0.135  0.5010  0.1665  0.1150  0.1650\n",
       "1     0  0.620  0.475  0.160  1.3245  0.6865  0.2330  0.3275\n",
       "2     2  0.560  0.425  0.135  0.9415  0.5090  0.2015  0.1975\n",
       "3     1  0.455  0.345  0.110  0.4340  0.2070  0.0855  0.1215\n",
       "4     1  0.185  0.130  0.045  0.0290  0.0120  0.0075  0.0095\n",
       "...  ..    ...    ...    ...     ...     ...     ...     ...\n",
       "1249  1  0.490  0.380  0.120  0.5290  0.2165  0.1390  0.1550\n",
       "1250  0  0.495  0.385  0.130  0.6905  0.3125  0.1790  0.1750\n",
       "1251  2  0.370  0.280  0.105  0.2340  0.0905  0.0585  0.0750\n",
       "1252  1  0.455  0.370  0.125  0.4330  0.2010  0.1265  0.1450\n",
       "1253  2  0.570  0.460  0.150  1.0375  0.5415  0.2035  0.2500\n",
       "\n",
       "[1254 rows x 8 columns]"
      ]
     },
     "execution_count": 43,
     "metadata": {},
     "output_type": "execute_result"
    }
   ],
   "source": []
  },
  {
   "cell_type": "code",
   "execution_count": 44,
   "metadata": {},
   "outputs": [],
   "source": [
    "pp = model.predict(data2)"
   ]
  },
  {
   "cell_type": "code",
   "execution_count": 45,
   "metadata": {},
   "outputs": [
    {
     "data": {
      "text/plain": [
       "array([[10.57704235],\n",
       "       [ 8.62656253],\n",
       "       [ 7.04971555],\n",
       "       ...,\n",
       "       [ 8.12703642],\n",
       "       [ 8.81952222],\n",
       "       [ 8.53766372]])"
      ]
     },
     "execution_count": 45,
     "metadata": {},
     "output_type": "execute_result"
    }
   ],
   "source": [
    "pp"
   ]
  },
  {
   "cell_type": "code",
   "execution_count": 52,
   "metadata": {},
   "outputs": [],
   "source": [
    "df=pd.DataFrame(pp)\n",
    "df.to_csv(r'C:\\Users\\User\\Documents\\ML\\submission.csv',index=True, header=True)"
   ]
  },
  {
   "cell_type": "code",
   "execution_count": null,
   "metadata": {},
   "outputs": [],
   "source": [
    "#linear model\n",
    "model2=lm()"
   ]
  },
  {
   "cell_type": "code",
   "execution_count": null,
   "metadata": {},
   "outputs": [],
   "source": []
  }
 ],
 "metadata": {
  "kernelspec": {
   "display_name": "Python 3",
   "language": "python",
   "name": "python3"
  },
  "language_info": {
   "codemirror_mode": {
    "name": "ipython",
    "version": 3
   },
   "file_extension": ".py",
   "mimetype": "text/x-python",
   "name": "python",
   "nbconvert_exporter": "python",
   "pygments_lexer": "ipython3",
   "version": "3.7.9"
  }
 },
 "nbformat": 4,
 "nbformat_minor": 2
}
