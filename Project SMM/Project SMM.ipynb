{
 "cells": [
  {
   "cell_type": "markdown",
   "metadata": {},
   "source": [
    "# \"Medicine Recommendation\" by SMM Team\n",
    "\n",
    "The dataset is parsed data from the website https://www.kaggle.com/jessicali9530/kuc-hackathon-winter-2018\n"
   ]
  },
  {
   "cell_type": "code",
   "execution_count": 9,
   "metadata": {},
   "outputs": [
    {
     "name": "stdout",
     "output_type": "stream",
     "text": [
      "   uniqueID         drugName                     condition  \\\n",
      "0    163740      Mirtazapine                    Depression   \n",
      "1    206473       Mesalamine  Crohn's Disease, Maintenance   \n",
      "2    159672          Bactrim       Urinary Tract Infection   \n",
      "3     39293         Contrave                   Weight Loss   \n",
      "4     97768  Cyclafem 1 / 35                 Birth Control   \n",
      "\n",
      "                                              review  rating       date  \\\n",
      "0  \"I&#039;ve tried a few antidepressants over th...      10  28-Feb-12   \n",
      "1  \"My son has Crohn&#039;s disease and has done ...       8  17-May-09   \n",
      "2                      \"Quick reduction of symptoms\"       9  29-Sep-17   \n",
      "3  \"Contrave combines drugs that were used for al...       9   5-Mar-17   \n",
      "4  \"I have been on this birth control for one cyc...       9  22-Oct-15   \n",
      "\n",
      "   usefulCount  \n",
      "0           22  \n",
      "1           17  \n",
      "2            3  \n",
      "3           35  \n",
      "4            4  \n",
      "   uniqueID                  drugName                     condition  \\\n",
      "0    206461                 Valsartan  Left Ventricular Dysfunction   \n",
      "1     95260                Guanfacine                          ADHD   \n",
      "2     92703                    Lybrel                 Birth Control   \n",
      "3    138000                Ortho Evra                 Birth Control   \n",
      "4     35696  Buprenorphine / naloxone             Opiate Dependence   \n",
      "\n",
      "                                              review  rating       date  \\\n",
      "0  \"It has no side effect, I take it in combinati...       9  20-May-12   \n",
      "1  \"My son is halfway through his fourth week of ...       8  27-Apr-10   \n",
      "2  \"I used to take another oral contraceptive, wh...       5  14-Dec-09   \n",
      "3  \"This is my first time using any form of birth...       8   3-Nov-15   \n",
      "4  \"Suboxone has completely turned my life around...       9  27-Nov-16   \n",
      "\n",
      "   usefulCount  \n",
      "0           27  \n",
      "1          192  \n",
      "2           17  \n",
      "3           10  \n",
      "4           37  \n"
     ]
    }
   ],
   "source": [
    "import pandas as pd\n",
    "data= pd.read_csv(\"./drugsComTest_raw.csv\") \n",
    "train=pd.read_csv(\"./drugsComTrain_raw.csv\")\n",
    "print(data.head())\n",
    "print(train.head())"
   ]
  },
  {
   "cell_type": "code",
   "execution_count": 11,
   "metadata": {},
   "outputs": [
    {
     "data": {
      "text/html": [
       "<div>\n",
       "<style scoped>\n",
       "    .dataframe tbody tr th:only-of-type {\n",
       "        vertical-align: middle;\n",
       "    }\n",
       "\n",
       "    .dataframe tbody tr th {\n",
       "        vertical-align: top;\n",
       "    }\n",
       "\n",
       "    .dataframe thead th {\n",
       "        text-align: right;\n",
       "    }\n",
       "</style>\n",
       "<table border=\"1\" class=\"dataframe\">\n",
       "  <thead>\n",
       "    <tr style=\"text-align: right;\">\n",
       "      <th></th>\n",
       "      <th>name</th>\n",
       "      <th>countryru</th>\n",
       "      <th>regidru</th>\n",
       "      <th>reciperu</th>\n",
       "      <th>id</th>\n",
       "      <th>dataru</th>\n",
       "      <th>dataendru</th>\n",
       "      <th>atcclassificationru</th>\n",
       "      <th>producerru</th>\n",
       "      <th>classificationru</th>\n",
       "      <th>drugsformru</th>\n",
       "    </tr>\n",
       "  </thead>\n",
       "  <tbody>\n",
       "    <tr>\n",
       "      <th>0</th>\n",
       "      <td>Диклофенак</td>\n",
       "      <td>РОССИЯ</td>\n",
       "      <td>РК-ЛС-5№021514</td>\n",
       "      <td>1</td>\n",
       "      <td>1</td>\n",
       "      <td>03.07.2020</td>\n",
       "      <td>01.01.1970</td>\n",
       "      <td>(M02AA15) Диклофенак</td>\n",
       "      <td>Синтез</td>\n",
       "      <td>Лекарственный препарат</td>\n",
       "      <td>Гель для наружного применения</td>\n",
       "    </tr>\n",
       "    <tr>\n",
       "      <th>1</th>\n",
       "      <td>Дермазин</td>\n",
       "      <td>ГЕРМАНИЯ</td>\n",
       "      <td>РК-ЛС-5№016311</td>\n",
       "      <td>1</td>\n",
       "      <td>2</td>\n",
       "      <td>03.07.2020</td>\n",
       "      <td>01.01.1970</td>\n",
       "      <td>(D06BA01) Сульфадиазин серебра</td>\n",
       "      <td>Салютас Фарма ГмбХ</td>\n",
       "      <td>Лекарственный препарат</td>\n",
       "      <td>Крем</td>\n",
       "    </tr>\n",
       "    <tr>\n",
       "      <th>2</th>\n",
       "      <td>Эрмуцин®</td>\n",
       "      <td>ИТАЛИЯ</td>\n",
       "      <td>РК-ЛС-5№013529</td>\n",
       "      <td>1</td>\n",
       "      <td>3</td>\n",
       "      <td>03.07.2020</td>\n",
       "      <td>01.01.1970</td>\n",
       "      <td>(R05CB15) Эрдостеин</td>\n",
       "      <td>Эдмонд Фарма С.р.л.</td>\n",
       "      <td>Лекарственный препарат</td>\n",
       "      <td>Капсулы</td>\n",
       "    </tr>\n",
       "    <tr>\n",
       "      <th>3</th>\n",
       "      <td>Арипегис®</td>\n",
       "      <td>ВЕНГРИЯ</td>\n",
       "      <td>РК-ЛС-5№021474</td>\n",
       "      <td>1</td>\n",
       "      <td>4</td>\n",
       "      <td>03.07.2020</td>\n",
       "      <td>01.01.1970</td>\n",
       "      <td>(N05AX12) Арипипразол</td>\n",
       "      <td>ЗАО &amp;quot;Фармацевтический завод ЭГИС&amp;quot;</td>\n",
       "      <td>Лекарственный препарат</td>\n",
       "      <td>Таблетки</td>\n",
       "    </tr>\n",
       "    <tr>\n",
       "      <th>4</th>\n",
       "      <td>Арипегис®</td>\n",
       "      <td>ВЕНГРИЯ</td>\n",
       "      <td>РК-ЛС-5№021473</td>\n",
       "      <td>1</td>\n",
       "      <td>5</td>\n",
       "      <td>03.07.2020</td>\n",
       "      <td>01.01.1970</td>\n",
       "      <td>(N05AX12) Арипипразол</td>\n",
       "      <td>ЗАО &amp;quot;Фармацевтический завод ЭГИС&amp;quot;</td>\n",
       "      <td>Лекарственный препарат</td>\n",
       "      <td>Таблетки</td>\n",
       "    </tr>\n",
       "    <tr>\n",
       "      <th>...</th>\n",
       "      <td>...</td>\n",
       "      <td>...</td>\n",
       "      <td>...</td>\n",
       "      <td>...</td>\n",
       "      <td>...</td>\n",
       "      <td>...</td>\n",
       "      <td>...</td>\n",
       "      <td>...</td>\n",
       "      <td>...</td>\n",
       "      <td>...</td>\n",
       "      <td>...</td>\n",
       "    </tr>\n",
       "    <tr>\n",
       "      <th>95</th>\n",
       "      <td>Метрид</td>\n",
       "      <td>ИНДИЯ</td>\n",
       "      <td>РК-ЛС-5№016129</td>\n",
       "      <td>1</td>\n",
       "      <td>96</td>\n",
       "      <td>15.06.2020</td>\n",
       "      <td>01.01.1970</td>\n",
       "      <td>(J01XD01) Метронидазол</td>\n",
       "      <td>оЦука Фармасьютикал Индия Прайвет Лимитед</td>\n",
       "      <td>Лекарственный препарат</td>\n",
       "      <td>Раствор для инфузий</td>\n",
       "    </tr>\n",
       "    <tr>\n",
       "      <th>96</th>\n",
       "      <td>СЕЛЕПИД 10%</td>\n",
       "      <td>ИНДИЯ</td>\n",
       "      <td>РК-ЛС-5№016579</td>\n",
       "      <td>1</td>\n",
       "      <td>97</td>\n",
       "      <td>15.06.2020</td>\n",
       "      <td>01.01.1970</td>\n",
       "      <td>(B05BA02) Жировые эмульсии</td>\n",
       "      <td>оЦука Фармасьютикал Индия Прайвет Лимитед</td>\n",
       "      <td>Лекарственный препарат</td>\n",
       "      <td>Эмульсия жировая для инфузий</td>\n",
       "    </tr>\n",
       "    <tr>\n",
       "      <th>97</th>\n",
       "      <td>Азитромицин Сандоз®</td>\n",
       "      <td>РУМЫНИЯ</td>\n",
       "      <td>РК-ЛС-5№021405</td>\n",
       "      <td>1</td>\n",
       "      <td>98</td>\n",
       "      <td>15.06.2020</td>\n",
       "      <td>15.06.2025</td>\n",
       "      <td>(J01FA10) Азитромицин</td>\n",
       "      <td>С.С.Сандоз С.Р.Л.</td>\n",
       "      <td>Воспроизведенный лекарственный препарат</td>\n",
       "      <td>Порошок для приготовления суспензии для приема...</td>\n",
       "    </tr>\n",
       "    <tr>\n",
       "      <th>98</th>\n",
       "      <td>Азитромицин Сандоз®</td>\n",
       "      <td>РУМЫНИЯ</td>\n",
       "      <td>РК-ЛС-5№021394</td>\n",
       "      <td>1</td>\n",
       "      <td>99</td>\n",
       "      <td>15.06.2020</td>\n",
       "      <td>01.01.1970</td>\n",
       "      <td>(J01FA10) Азитромицин</td>\n",
       "      <td>С.С.Сандоз С.Р.Л.</td>\n",
       "      <td>Воспроизведенный лекарственный препарат</td>\n",
       "      <td>Порошок для приготовления суспензии для приема...</td>\n",
       "    </tr>\n",
       "    <tr>\n",
       "      <th>99</th>\n",
       "      <td>Соликва® СолоСтар®</td>\n",
       "      <td>ГЕРМАНИЯ</td>\n",
       "      <td>РК-ЛС-5№024583</td>\n",
       "      <td>1</td>\n",
       "      <td>100</td>\n",
       "      <td>15.06.2020</td>\n",
       "      <td>15.06.2025</td>\n",
       "      <td>(A10AE54) Инсулин гларгин и ликсисенатид</td>\n",
       "      <td>Санофи-Авентис Дойчланд ГмбХ</td>\n",
       "      <td>Лекарственный препарат биологического происхож...</td>\n",
       "      <td>Раствор для подкожного введения</td>\n",
       "    </tr>\n",
       "  </tbody>\n",
       "</table>\n",
       "<p>100 rows × 11 columns</p>\n",
       "</div>"
      ],
      "text/plain": [
       "                   name countryru         regidru  reciperu   id      dataru  \\\n",
       "0            Диклофенак    РОССИЯ  РК-ЛС-5№021514         1    1  03.07.2020   \n",
       "1              Дермазин  ГЕРМАНИЯ  РК-ЛС-5№016311         1    2  03.07.2020   \n",
       "2              Эрмуцин®    ИТАЛИЯ  РК-ЛС-5№013529         1    3  03.07.2020   \n",
       "3             Арипегис®   ВЕНГРИЯ  РК-ЛС-5№021474         1    4  03.07.2020   \n",
       "4             Арипегис®   ВЕНГРИЯ  РК-ЛС-5№021473         1    5  03.07.2020   \n",
       "..                  ...       ...             ...       ...  ...         ...   \n",
       "95               Метрид     ИНДИЯ  РК-ЛС-5№016129         1   96  15.06.2020   \n",
       "96          СЕЛЕПИД 10%     ИНДИЯ  РК-ЛС-5№016579         1   97  15.06.2020   \n",
       "97  Азитромицин Сандоз®   РУМЫНИЯ  РК-ЛС-5№021405         1   98  15.06.2020   \n",
       "98  Азитромицин Сандоз®   РУМЫНИЯ  РК-ЛС-5№021394         1   99  15.06.2020   \n",
       "99   Соликва® СолоСтар®  ГЕРМАНИЯ  РК-ЛС-5№024583         1  100  15.06.2020   \n",
       "\n",
       "     dataendru                       atcclassificationru  \\\n",
       "0   01.01.1970                      (M02AA15) Диклофенак   \n",
       "1   01.01.1970            (D06BA01) Сульфадиазин серебра   \n",
       "2   01.01.1970                       (R05CB15) Эрдостеин   \n",
       "3   01.01.1970                     (N05AX12) Арипипразол   \n",
       "4   01.01.1970                     (N05AX12) Арипипразол   \n",
       "..         ...                                       ...   \n",
       "95  01.01.1970                    (J01XD01) Метронидазол   \n",
       "96  01.01.1970                (B05BA02) Жировые эмульсии   \n",
       "97  15.06.2025                     (J01FA10) Азитромицин   \n",
       "98  01.01.1970                     (J01FA10) Азитромицин   \n",
       "99  15.06.2025  (A10AE54) Инсулин гларгин и ликсисенатид   \n",
       "\n",
       "                                     producerru  \\\n",
       "0                                        Синтез   \n",
       "1                            Салютас Фарма ГмбХ   \n",
       "2                           Эдмонд Фарма С.р.л.   \n",
       "3   ЗАО &quot;Фармацевтический завод ЭГИС&quot;   \n",
       "4   ЗАО &quot;Фармацевтический завод ЭГИС&quot;   \n",
       "..                                          ...   \n",
       "95    оЦука Фармасьютикал Индия Прайвет Лимитед   \n",
       "96    оЦука Фармасьютикал Индия Прайвет Лимитед   \n",
       "97                            С.С.Сандоз С.Р.Л.   \n",
       "98                            С.С.Сандоз С.Р.Л.   \n",
       "99                 Санофи-Авентис Дойчланд ГмбХ   \n",
       "\n",
       "                                     classificationru  \\\n",
       "0                              Лекарственный препарат   \n",
       "1                              Лекарственный препарат   \n",
       "2                              Лекарственный препарат   \n",
       "3                              Лекарственный препарат   \n",
       "4                              Лекарственный препарат   \n",
       "..                                                ...   \n",
       "95                             Лекарственный препарат   \n",
       "96                             Лекарственный препарат   \n",
       "97            Воспроизведенный лекарственный препарат   \n",
       "98            Воспроизведенный лекарственный препарат   \n",
       "99  Лекарственный препарат биологического происхож...   \n",
       "\n",
       "                                          drugsformru  \n",
       "0                       Гель для наружного применения  \n",
       "1                                                Крем  \n",
       "2                                             Капсулы  \n",
       "3                                            Таблетки  \n",
       "4                                            Таблетки  \n",
       "..                                                ...  \n",
       "95                                Раствор для инфузий  \n",
       "96                       Эмульсия жировая для инфузий  \n",
       "97  Порошок для приготовления суспензии для приема...  \n",
       "98  Порошок для приготовления суспензии для приема...  \n",
       "99                    Раствор для подкожного введения  \n",
       "\n",
       "[100 rows x 11 columns]"
      ]
     },
     "execution_count": 11,
     "metadata": {},
     "output_type": "execute_result"
    }
   ],
   "source": [
    "kz= pd.read_csv(\"kzdrugs.csv\") \n",
    "kz"
   ]
  },
  {
   "cell_type": "code",
   "execution_count": 2,
   "metadata": {},
   "outputs": [
    {
     "name": "stdout",
     "output_type": "stream",
     "text": [
      "There are 53766 rows, and 7 columns in the dataset.\n",
      "There are 53766 rows, and 7 columns in the train dataset.\n"
     ]
    }
   ],
   "source": [
    "print(\"There are\", data.shape[0], \"rows, and\", data.shape[1], \"columns in the dataset.\")\n",
    "print(\"There are\", data.shape[0], \"rows, and\", train.shape[1], \"columns in the train dataset.\")"
   ]
  },
  {
   "cell_type": "markdown",
   "metadata": {},
   "source": [
    "## Data Training  <a class=\"anchor\"></a>"
   ]
  },
  {
   "cell_type": "code",
   "execution_count": 3,
   "metadata": {},
   "outputs": [],
   "source": [
    "from sklearn.neighbors import NearestNeighbors \n",
    "from scipy.sparse import csr_matrix\n",
    "from sklearn.decomposition import TruncatedSVD\n",
    "import numpy as np"
   ]
  },
  {
   "cell_type": "code",
   "execution_count": 4,
   "metadata": {},
   "outputs": [],
   "source": [
    "col = ['drugName','condition','usefulCount']\n",
    "\n",
    "medicine1 = data[col]\n",
    "medicine1 = medicine1.dropna(axis=0)\n",
    "medicine1 = medicine1.drop_duplicates(['drugName','condition'])\n",
    "medicine_pivot = medicine1.pivot(index= 'drugName',columns='condition',values='usefulCount').fillna(0)\n",
    "medicine_pivot_matrix = csr_matrix(medicine_pivot)"
   ]
  },
  {
   "cell_type": "code",
   "execution_count": 5,
   "metadata": {},
   "outputs": [],
   "source": [
    "knn = NearestNeighbors(n_neighbors=10, algorithm= 'brute', metric= 'cosine')\n",
    "model_knn = knn.fit(medicine_pivot_matrix)"
   ]
  },
  {
   "cell_type": "code",
   "execution_count": 6,
   "metadata": {},
   "outputs": [
    {
     "name": "stdout",
     "output_type": "stream",
     "text": [
      "Recmmendation for ## Seasonale ##:\n",
      "1: Lyza with distance: 0.0002262699429349535\n",
      "2: Sronyx with distance: 0.005879066987873882\n",
      "3: Estarylla with distance: 0.008690226634644693\n",
      "4: Alesse with distance: 0.0175508943103011\n",
      "5: Ethinyl estradiol / norgestimate with distance: 0.025570417778454035\n",
      "\n",
      "\n",
      "Recmmendation for ## Necon 1 / 50 ##:\n",
      "1: Chateal with distance: 0.007722123286332261\n",
      "2: Nora-Be with distance: 0.02145021501325106\n",
      "3: Falmina with distance: 0.029857499854668124\n",
      "4: Ovcon 35 with distance: 0.03648209037005945\n",
      "5: Provera with distance: 0.15778481082892692\n",
      "\n",
      "\n",
      "Recmmendation for ## Eltrombopag ##:\n",
      "1: Nplate with distance: 0.0\n",
      "2: Rho (d) immune globulin with distance: 0.0\n",
      "3: Romiplostim with distance: 0.0\n",
      "4: Promacta with distance: 0.00017142367486877585\n",
      "5: Cyclosporine with distance: 0.6777483066822552\n",
      "\n",
      "\n",
      "Recmmendation for ## Echinacea ##:\n",
      "1: R-Tanna with distance: 0.0\n",
      "2: Acetaminophen / dextromethorphan / pseudoephedrine with distance: 0.0\n",
      "3: Alka-Seltzer Plus Cold with distance: 0.0\n",
      "4: Acetaminophen / dextromethorphan / guaifenesin / pseudoephedrine with distance: 0.0\n",
      "5: Codimal DM with distance: 0.0\n",
      "\n",
      "\n",
      "Recmmendation for ## Nitroglycerin ##:\n",
      "1: DynaCirc CR with distance: 0.0166818937183838\n",
      "2: Trolamine salicylate with distance: 0.08222436600214045\n",
      "3: Nifedipine with distance: 0.24637879298317267\n",
      "4: Felodipine with distance: 0.43846194889987244\n",
      "5: Bayer Aspirin with distance: 0.8457540225440602\n",
      "\n",
      "\n"
     ]
    }
   ],
   "source": [
    "for n in range(5):\n",
    "    query_index = np.random.choice(medicine_pivot.shape[0])\n",
    "    distance, indice = model_knn.kneighbors(medicine_pivot.iloc[query_index,:].values.reshape(1,-1), n_neighbors=6)\n",
    "    for i in range(0, len(distance.flatten())):\n",
    "        if  i == 0:\n",
    "            print('Recmmendation for ## {0} ##:'.format(medicine_pivot.index[query_index]))\n",
    "        else:\n",
    "            print('{0}: {1} with distance: {2}'.format(i,medicine_pivot.index[indice.flatten()[i]],distance.flatten()[i]))\n",
    "    print('\\n')"
   ]
  },
  {
   "cell_type": "code",
   "execution_count": 7,
   "metadata": {},
   "outputs": [],
   "source": [
    "#from dataset drugs similar to Nitroglycerin and conditioned for Raynaud's Syndrome\n",
    "#Nitroglycerin\n",
    "#Nifedipine\n",
    "#DynaCirc CR\n",
    "#Felodipine\n",
    "#Trolamine salicylate\n",
    "\n"
   ]
  },
  {
   "cell_type": "markdown",
   "metadata": {},
   "source": []
  },
  {
   "cell_type": "code",
   "execution_count": 12,
   "metadata": {},
   "outputs": [
    {
     "name": "stdout",
     "output_type": "stream",
     "text": [
      "Recmmendation for ## Nitroglycerin ##:\n",
      "condition    Migraine\n",
      "Name: 1674, dtype: object\n",
      "1: DynaCirc CR with distance: 0.0166818937183838\n",
      "2: Trolamine salicylate with distance: 0.08222436600214045\n",
      "3: Nifedipine with distance: 0.24637879298317267\n",
      "4: Felodipine with distance: 0.43846194889987244\n",
      "5: Bayer Aspirin with distance: 0.8457540225440602\n"
     ]
    }
   ],
   "source": [
    "def recommend_medicine(medicine_name):\n",
    "    con=data[['condition']].T\n",
    "    for i in range(len(medicine_pivot)):\n",
    "        if medicine_pivot.index[i]==medicine_name:\n",
    "            query_index=i\n",
    "    distance, indice = model_knn.kneighbors(medicine_pivot.iloc[query_index,:].values.reshape(1,-1), n_neighbors=6)\n",
    "    for i in range(0, len(distance.flatten())):\n",
    "        if  i == 0:\n",
    "            print('Recmmendation for ## {0} ##:'.format(medicine_pivot.index[query_index]))\n",
    "            print(con[query_index])\n",
    "        else:\n",
    "            print('{0}: {1} with distance: {2}'.format(i,medicine_pivot.index[indice.flatten()[i]],distance.flatten()[i]))\n",
    "recommend_medicine(\"Nitroglycerin\")"
   ]
  },
  {
   "cell_type": "code",
   "execution_count": 19,
   "metadata": {},
   "outputs": [
    {
     "ename": "ValueError",
     "evalue": "Cannot run multiple SparkContexts at once; existing SparkContext(app=pyspark-shell, master=local[*]) created by __init__ at <ipython-input-9-d14c18768bb4>:6 ",
     "output_type": "error",
     "traceback": [
      "\u001b[1;31m---------------------------------------------------------------------------\u001b[0m",
      "\u001b[1;31mValueError\u001b[0m                                Traceback (most recent call last)",
      "\u001b[1;32m<ipython-input-19-3512289d2fe2>\u001b[0m in \u001b[0;36m<module>\u001b[1;34m\u001b[0m\n\u001b[0;32m      4\u001b[0m \u001b[1;32mfrom\u001b[0m \u001b[0mpyspark\u001b[0m\u001b[1;33m.\u001b[0m\u001b[0mml\u001b[0m\u001b[1;33m.\u001b[0m\u001b[0mrecommendation\u001b[0m \u001b[1;32mimport\u001b[0m \u001b[0mALS\u001b[0m\u001b[1;33m\u001b[0m\u001b[1;33m\u001b[0m\u001b[0m\n\u001b[0;32m      5\u001b[0m \u001b[1;32mfrom\u001b[0m \u001b[0msklearn\u001b[0m \u001b[1;32mimport\u001b[0m \u001b[0mpreprocessing\u001b[0m\u001b[1;33m\u001b[0m\u001b[1;33m\u001b[0m\u001b[0m\n\u001b[1;32m----> 6\u001b[1;33m \u001b[0msc\u001b[0m \u001b[1;33m=\u001b[0m \u001b[0mSparkContext\u001b[0m\u001b[1;33m(\u001b[0m\u001b[1;33m)\u001b[0m      \u001b[1;31m# instantiating spark context\u001b[0m\u001b[1;33m\u001b[0m\u001b[1;33m\u001b[0m\u001b[0m\n\u001b[0m\u001b[0;32m      7\u001b[0m \u001b[0msqlContext\u001b[0m \u001b[1;33m=\u001b[0m \u001b[0mSQLContext\u001b[0m\u001b[1;33m(\u001b[0m\u001b[0msc\u001b[0m\u001b[1;33m)\u001b[0m \u001b[1;31m# instantiating SQL context\u001b[0m\u001b[1;33m\u001b[0m\u001b[1;33m\u001b[0m\u001b[0m\n\u001b[0;32m      8\u001b[0m \u001b[0mX_test\u001b[0m\u001b[1;33m=\u001b[0m\u001b[0mdata\u001b[0m\u001b[1;33m[\u001b[0m\u001b[1;33m[\u001b[0m\u001b[1;34m'uniqueID'\u001b[0m\u001b[1;33m,\u001b[0m\u001b[1;34m'usefulCount'\u001b[0m\u001b[1;33m,\u001b[0m\u001b[1;34m'rating'\u001b[0m\u001b[1;33m]\u001b[0m\u001b[1;33m]\u001b[0m\u001b[1;33m\u001b[0m\u001b[1;33m\u001b[0m\u001b[0m\n",
      "\u001b[1;32m~\\anaconda3\\lib\\site-packages\\pyspark\\context.py\u001b[0m in \u001b[0;36m__init__\u001b[1;34m(self, master, appName, sparkHome, pyFiles, environment, batchSize, serializer, conf, gateway, jsc, profiler_cls)\u001b[0m\n\u001b[0;32m    131\u001b[0m                 \" is not allowed as it is a security risk.\")\n\u001b[0;32m    132\u001b[0m \u001b[1;33m\u001b[0m\u001b[0m\n\u001b[1;32m--> 133\u001b[1;33m         \u001b[0mSparkContext\u001b[0m\u001b[1;33m.\u001b[0m\u001b[0m_ensure_initialized\u001b[0m\u001b[1;33m(\u001b[0m\u001b[0mself\u001b[0m\u001b[1;33m,\u001b[0m \u001b[0mgateway\u001b[0m\u001b[1;33m=\u001b[0m\u001b[0mgateway\u001b[0m\u001b[1;33m,\u001b[0m \u001b[0mconf\u001b[0m\u001b[1;33m=\u001b[0m\u001b[0mconf\u001b[0m\u001b[1;33m)\u001b[0m\u001b[1;33m\u001b[0m\u001b[1;33m\u001b[0m\u001b[0m\n\u001b[0m\u001b[0;32m    134\u001b[0m         \u001b[1;32mtry\u001b[0m\u001b[1;33m:\u001b[0m\u001b[1;33m\u001b[0m\u001b[1;33m\u001b[0m\u001b[0m\n\u001b[0;32m    135\u001b[0m             self._do_init(master, appName, sparkHome, pyFiles, environment, batchSize, serializer,\n",
      "\u001b[1;32m~\\anaconda3\\lib\\site-packages\\pyspark\\context.py\u001b[0m in \u001b[0;36m_ensure_initialized\u001b[1;34m(cls, instance, gateway, conf)\u001b[0m\n\u001b[0;32m    334\u001b[0m \u001b[1;33m\u001b[0m\u001b[0m\n\u001b[0;32m    335\u001b[0m                     \u001b[1;31m# Raise error if there is already a running Spark context\u001b[0m\u001b[1;33m\u001b[0m\u001b[1;33m\u001b[0m\u001b[1;33m\u001b[0m\u001b[0m\n\u001b[1;32m--> 336\u001b[1;33m                     raise ValueError(\n\u001b[0m\u001b[0;32m    337\u001b[0m                         \u001b[1;34m\"Cannot run multiple SparkContexts at once; \"\u001b[0m\u001b[1;33m\u001b[0m\u001b[1;33m\u001b[0m\u001b[0m\n\u001b[0;32m    338\u001b[0m                         \u001b[1;34m\"existing SparkContext(app=%s, master=%s)\"\u001b[0m\u001b[1;33m\u001b[0m\u001b[1;33m\u001b[0m\u001b[0m\n",
      "\u001b[1;31mValueError\u001b[0m: Cannot run multiple SparkContexts at once; existing SparkContext(app=pyspark-shell, master=local[*]) created by __init__ at <ipython-input-9-d14c18768bb4>:6 "
     ]
    }
   ],
   "source": [
    "from pyspark import SparkContext, SQLContext   # required for dealing with dataframes\n",
    "from pyspark.sql.functions import isnan, count, col\n",
    "from pyspark.ml.evaluation import RegressionEvaluator\n",
    "from pyspark.ml.recommendation import ALS\n",
    "from sklearn import preprocessing\n",
    "sc = SparkContext()      # instantiating spark context \n",
    "sqlContext = SQLContext(sc) # instantiating SQL context \n"
   ]
  },
  {
   "cell_type": "code",
   "execution_count": 46,
   "metadata": {},
   "outputs": [
    {
     "name": "stdout",
     "output_type": "stream",
     "text": [
      "              drugName                     condition\n",
      "0          Mirtazapine                    Depression\n",
      "1           Mesalamine  Crohn's Disease, Maintenance\n",
      "2              Bactrim       Urinary Tract Infection\n",
      "3             Contrave                   Weight Loss\n",
      "4      Cyclafem 1 / 35                 Birth Control\n",
      "...                ...                           ...\n",
      "53761        Tamoxifen     Breast Cancer, Prevention\n",
      "53762     Escitalopram                       Anxiety\n",
      "53763   Levonorgestrel                 Birth Control\n",
      "53764       Tapentadol                          Pain\n",
      "53765        Arthrotec                      Sciatica\n",
      "\n",
      "[53766 rows x 2 columns]\n"
     ]
    }
   ],
   "source": [
    "X_test=data[['drugName','condition']]\n",
    "X_train=train[['drugName','condition']]\n",
    "print(X_test)"
   ]
  },
  {
   "cell_type": "code",
   "execution_count": 47,
   "metadata": {},
   "outputs": [
    {
     "name": "stdout",
     "output_type": "stream",
     "text": [
      "DataFrame[drugName: bigint, condition: bigint]\n"
     ]
    }
   ],
   "source": [
    "label_encoding = preprocessing.LabelEncoder()\n",
    "X_test=X_test.dropna()\n",
    "X_train=X_train.dropna()\n",
    "X_test = X_test.apply(label_encoding.fit_transform)\n",
    "X_train = X_train.apply(label_encoding.fit_transform)\n",
    "X_test = sqlContext.createDataFrame(X_test)\n",
    "X_train = sqlContext.createDataFrame(X_train)\n",
    "print(X_test)"
   ]
  },
  {
   "cell_type": "code",
   "execution_count": 18,
   "metadata": {},
   "outputs": [
    {
     "name": "stdout",
     "output_type": "stream",
     "text": [
      "DataFrame[uniqueID: bigint, usefulCount: bigint, rating: bigint]\n"
     ]
    }
   ],
   "source": []
  },
  {
   "cell_type": "code",
   "execution_count": 49,
   "metadata": {},
   "outputs": [
    {
     "name": "stdout",
     "output_type": "stream",
     "text": [
      "RMSE on training data :  141.59302460038475\n",
      "+--------+--------------------------------------------------------+\n",
      "|drugName|recommendations                                         |\n",
      "+--------+--------------------------------------------------------+\n",
      "|1580    |[[2272, 737.37427], [721, 715.204], [1230, 689.1357]]   |\n",
      "|471     |[[360, 784.83215], [2062, 706.80304], [430, 687.1113]]  |\n",
      "|1591    |[[1296, 742.47455], [2175, 719.03424], [977, 718.6032]] |\n",
      "|1342    |[[233, 729.0954], [3329, 688.02094], [506, 681.77356]]  |\n",
      "|2122    |[[3036, 782.4323], [2063, 766.03455], [3353, 724.49866]]|\n",
      "+--------+--------------------------------------------------------+\n",
      "only showing top 5 rows\n",
      "\n",
      "None\n"
     ]
    }
   ],
   "source": [
    "als = ALS(userCol=\"drugName\",itemCol=\"drugName\",ratingCol=\"condition\",rank=5, maxIter=10, seed=0)\n",
    "model = als.fit(X_train)\n",
    "\n",
    "evaluator=RegressionEvaluator(metricName=\"rmse\",labelCol=\"condition\",predictionCol=\"prediction\")\n",
    "\n",
    "train_predictions = model.transform(X_train)\n",
    "print(\"RMSE on training data : \", evaluator.evaluate(train_predictions))\n",
    "print(model.recommendForAllUsers(3).show(5,truncate = False))"
   ]
  },
  {
   "cell_type": "code",
   "execution_count": 52,
   "metadata": {},
   "outputs": [
    {
     "name": "stdout",
     "output_type": "stream",
     "text": [
      "+--------+---------------------------------------------------------------------------------------------+\n",
      "|drugName|recommendations                                                                              |\n",
      "+--------+---------------------------------------------------------------------------------------------+\n",
      "|1580    |[[2272, 737.37427], [721, 715.204], [1230, 689.1357], [2029, 659.8822], [1450, 636.4867]]    |\n",
      "|471     |[[360, 784.83215], [2062, 706.80304], [430, 687.1113], [471, 685.9996], [1802, 652.92706]]   |\n",
      "|1591    |[[1296, 742.47455], [2175, 719.03424], [977, 718.6032], [2687, 714.929], [2032, 703.0016]]   |\n",
      "|1342    |[[233, 729.0954], [3329, 688.02094], [506, 681.77356], [2153, 676.6808], [1310, 642.7162]]   |\n",
      "|2122    |[[3036, 782.4323], [2063, 766.03455], [3353, 724.49866], [2425, 719.5475], [3291, 708.80145]]|\n",
      "|2142    |[[2032, 775.79004], [112, 773.1832], [1296, 765.49255], [977, 729.8375], [2687, 727.7058]]   |\n",
      "|463     |[[831, 765.92505], [2748, 737.739], [2428, 692.84247], [3273, 691.6794], [248, 680.47565]]   |\n",
      "|833     |[[833, 831.99963], [1327, 826.4884], [506, 739.4593], [390, 680.4373], [954, 671.2798]]      |\n",
      "|1645    |[[1321, 700.2084], [1517, 689.08936], [516, 661.8903], [235, 658.14716], [487, 653.8511]]    |\n",
      "|3175    |[[233, 828.214], [146, 778.6752], [84, 741.05554], [3413, 707.98944], [3127, 664.59985]]     |\n",
      "|496     |[[2996, 737.1052], [3279, 691.58673], [1099, 683.1487], [828, 653.2635], [1810, 645.2355]]   |\n",
      "|2366    |[[474, 730.1633], [1789, 663.3468], [1987, 653.44116], [2476, 643.4702], [877, 636.851]]     |\n",
      "|2866    |[[1031, 721.0372], [722, 708.29407], [1412, 686.68066], [1018, 662.4682], [622, 658.17255]]  |\n",
      "|148     |[[1945, 846.10614], [2746, 734.4456], [1433, 707.85474], [403, 695.3546], [3050, 684.90735]] |\n",
      "|1088    |[[3190, 748.16895], [2549, 714.0074], [254, 663.665], [487, 659.4897], [2414, 652.84576]]    |\n",
      "|1238    |[[2114, 793.5908], [2320, 745.49915], [450, 711.4994], [2763, 695.8412], [933, 690.8567]]    |\n",
      "|1829    |[[1503, 779.9532], [2070, 743.15], [1646, 712.3555], [1928, 710.6401], [2839, 698.91156]]    |\n",
      "|1959    |[[53, 776.1038], [3001, 716.2025], [769, 688.3891], [2487, 671.33014], [1959, 667.264]]      |\n",
      "|2659    |[[1789, 773.7521], [450, 739.7426], [877, 731.56586], [2070, 721.767], [2567, 688.99603]]    |\n",
      "|540     |[[1946, 748.3651], [1450, 677.3246], [390, 670.00635], [396, 656.70233], [2670, 649.664]]    |\n",
      "+--------+---------------------------------------------------------------------------------------------+\n",
      "only showing top 20 rows\n",
      "\n",
      "None\n"
     ]
    }
   ],
   "source": [
    "print(model.recommendForAllUsers(5).show(truncate = False))"
   ]
  },
  {
   "cell_type": "code",
   "execution_count": 50,
   "metadata": {},
   "outputs": [],
   "source": [
    "c=model.recommendForAllUsers(5)"
   ]
  },
  {
   "cell_type": "code",
   "execution_count": 51,
   "metadata": {},
   "outputs": [
    {
     "name": "stdout",
     "output_type": "stream",
     "text": [
      "DataFrame[drugName: int, recommendations: array<struct<drugName:int,rating:float>>]\n"
     ]
    }
   ],
   "source": [
    "print(c)"
   ]
  },
  {
   "cell_type": "code",
   "execution_count": 71,
   "metadata": {
    "tags": []
   },
   "outputs": [
    {
     "name": "stdout",
     "output_type": "stream",
     "text": [
      "360 drugName         Junel Fe 1 / 20\n",
      "condition    Menstrual Disorders\n",
      "Name: 360, dtype: object\n",
      "430 drugName          Olanzapine\n",
      "condition    Bipolar Disorde\n",
      "Name: 430, dtype: object\n",
      "471 drugName          ParaGard\n",
      "condition    Birth Control\n",
      "Name: 471, dtype: object\n",
      "1802 drugName     Oxycodone\n",
      "condition         Pain\n",
      "Name: 1802, dtype: object\n",
      "2062 drugName     Atropine / hyoscyamine / phenobarbital / scopo...\n",
      "condition                             Irritable Bowel Syndrome\n",
      "Name: 2062, dtype: object\n"
     ]
    }
   ],
   "source": [
    "X=data[['drugName']]\n",
    "X = X.apply(label_encoding.fit_transform)\n",
    "#print(X)\n",
    "k=(data[['drugName','condition']].T)\n",
    "p=[471,360,2062,430,471,1802]\n",
    "for i in range(len(X)-1):\n",
    "    if i in p:\n",
    "        print(str(i)+\" \"+str(k[i]))"
   ]
  },
  {
   "cell_type": "code",
   "execution_count": null,
   "metadata": {},
   "outputs": [],
   "source": []
  }
 ],
 "metadata": {
  "kernelspec": {
   "display_name": "Python 3",
   "language": "python",
   "name": "python3"
  },
  "language_info": {
   "codemirror_mode": {
    "name": "ipython",
    "version": 3
   },
   "file_extension": ".py",
   "mimetype": "text/x-python",
   "name": "python",
   "nbconvert_exporter": "python",
   "pygments_lexer": "ipython3",
   "version": "3.7.9"
  }
 },
 "nbformat": 4,
 "nbformat_minor": 2
}
